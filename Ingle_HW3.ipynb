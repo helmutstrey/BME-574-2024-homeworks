{
 "cells": [
  {
   "cell_type": "code",
   "execution_count": 1,
   "id": "38b0fbe8-7c5a-4173-adfc-bd4882ab342f",
   "metadata": {},
   "outputs": [
    {
     "name": "stderr",
     "output_type": "stream",
     "text": [
      "\u001b[32m\u001b[1m  Activating\u001b[22m\u001b[39m project at `~`\n"
     ]
    }
   ],
   "source": [
    "import Pkg\n",
    "Pkg.activate(\".\")"
   ]
  },
  {
   "cell_type": "code",
   "execution_count": 3,
   "id": "055e7d12-e8b7-48de-beb9-50a3a93a4992",
   "metadata": {},
   "outputs": [
    {
     "name": "stderr",
     "output_type": "stream",
     "text": [
      "\u001b[32m\u001b[1m   Resolving\u001b[22m\u001b[39m package versions...\n",
      "\u001b[32m\u001b[1m  No Changes\u001b[22m\u001b[39m to `~/Project.toml`\n",
      "\u001b[32m\u001b[1m  No Changes\u001b[22m\u001b[39m to `~/Manifest.toml`\n"
     ]
    }
   ],
   "source": [
    "Pkg.add([\"Optimization\", \"OptimizationOptimJL\", \"ForwardDiff\"])"
   ]
  },
  {
   "cell_type": "code",
   "execution_count": 4,
   "id": "352ce1ec-da47-442f-88df-6d37077106c6",
   "metadata": {},
   "outputs": [],
   "source": [
    "using Optimization, OptimizationOptimJL, ForwardDiff"
   ]
  },
  {
   "cell_type": "code",
   "execution_count": 54,
   "id": "21876702-8106-4cfb-acce-89a30e41f71c",
   "metadata": {},
   "outputs": [
    {
     "data": {
      "text/plain": [
       "fquad (generic function with 2 methods)"
      ]
     },
     "execution_count": 54,
     "metadata": {},
     "output_type": "execute_result"
    }
   ],
   "source": [
    "#function x^2 + 3y^2\n",
    "fquad(u, p) = u[1]^2 + 3 * u[2]^2"
   ]
  },
  {
   "cell_type": "code",
   "execution_count": 55,
   "id": "d0beecd3-ebe0-40a8-a307-6d17f038d120",
   "metadata": {},
   "outputs": [
    {
     "data": {
      "text/plain": [
       "callback_func (generic function with 1 method)"
      ]
     },
     "execution_count": 55,
     "metadata": {},
     "output_type": "execute_result"
    }
   ],
   "source": [
    "#store intermediate points\n",
    "path = []\n",
    "\n",
    "#callback function to collect the path\n",
    "function callback_func(state, obj_value)\n",
    "    global path\n",
    "    push!(path, copy(state.u))  \n",
    "    return false \n",
    "end"
   ]
  },
  {
   "cell_type": "code",
   "execution_count": 56,
   "id": "7a73cf66-f2ba-4b14-b80d-c78a1ddd534c",
   "metadata": {},
   "outputs": [
    {
     "data": {
      "text/plain": [
       "\u001b[38;2;86;182;194mOptimizationProblem\u001b[0m. In-place: \u001b[38;2;86;182;194mtrue\u001b[0m\n",
       "u0: 2-element Vector{Float64}:\n",
       " 3.0\n",
       " 2.0"
      ]
     },
     "execution_count": 56,
     "metadata": {},
     "output_type": "execute_result"
    }
   ],
   "source": [
    "#initial guess\n",
    "x0 = [3.0, 2.0]  #starting point for the optimization\n",
    "\n",
    "#no parameters (p) \n",
    "p = nothing\n",
    "\n",
    "optf = OptimizationFunction(fquad, AutoForwardDiff())\n",
    "prob = OptimizationProblem(optf, x0, p)"
   ]
  },
  {
   "cell_type": "code",
   "execution_count": 57,
   "id": "ab47ebde-fde7-4542-949c-04a12a918aa3",
   "metadata": {},
   "outputs": [
    {
     "data": {
      "text/plain": [
       "retcode: Success\n",
       "u: 2-element Vector{Float64}:\n",
       "  1.6114282515494192e-9\n",
       " -2.6857137525823675e-10"
      ]
     },
     "execution_count": 57,
     "metadata": {},
     "output_type": "execute_result"
    }
   ],
   "source": [
    "#gradient descent using the GradientDescent optimizer\n",
    "result = solve(prob, GradientDescent(), callback = callback_func)"
   ]
  },
  {
   "cell_type": "code",
   "execution_count": 58,
   "id": "ef59d2d3-d671-4b92-bb4c-b85dc6cf3a62",
   "metadata": {},
   "outputs": [
    {
     "name": "stdout",
     "output_type": "stream",
     "text": [
      "Optimal solution: [1.6114282515494192e-9, -2.6857137525823675e-10]\n"
     ]
    }
   ],
   "source": [
    "#print the optimal solution\n",
    "println(\"Optimal solution: \", result.u)"
   ]
  }
 ],
 "metadata": {
  "kernelspec": {
   "display_name": "Julia 1.10.4",
   "language": "julia",
   "name": "julia-1.10"
  },
  "language_info": {
   "file_extension": ".jl",
   "mimetype": "application/julia",
   "name": "julia",
   "version": "1.10.4"
  }
 },
 "nbformat": 4,
 "nbformat_minor": 5
}
