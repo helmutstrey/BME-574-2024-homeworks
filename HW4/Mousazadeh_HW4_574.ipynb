{
 "cells": [
  {
   "cell_type": "code",
   "execution_count": null,
   "id": "0211f28f-a176-4b7e-a274-7dfe19390f79",
   "metadata": {},
   "outputs": [],
   "source": [
    "import Pkg\n",
    "Pkg.activate(\".\")"
   ]
  },
  {
   "cell_type": "code",
   "execution_count": null,
   "id": "1ec6a91d-661d-488a-8b82-1fbf8105e6cd",
   "metadata": {},
   "outputs": [],
   "source": [
    "Pkg.add([\"CairoMakie\",\"LinearAlgebra\",\"Distributions\",\"Convex\",\"SCS\",\"GLMNet\"])"
   ]
  },
  {
   "cell_type": "code",
   "execution_count": null,
   "id": "f313b78a-8ff0-4eca-8295-855a2eedddfe",
   "metadata": {},
   "outputs": [],
   "source": [
    "using CairoMakie, LinearAlgebra, Statistics, Distributions, Convex, SCS, GLMNet"
   ]
  },
  {
   "cell_type": "code",
   "execution_count": null,
   "id": "a6d3868a-de51-4eb4-bef2-f40b36e98527",
   "metadata": {},
   "outputs": [],
   "source": [
    "x = LinRange(0,4,100)"
   ]
  },
  {
   "cell_type": "code",
   "execution_count": null,
   "id": "372546bf-e418-4480-a2f7-95dd1df85c4f",
   "metadata": {},
   "outputs": [],
   "source": [
    "col_list = Vector{Float64}[]\n",
    "for p in 0:19\n",
    "    push!(col_list, x .^ p)\n",
    "end\n",
    "A = reduce(hcat,col_list)"
   ]
  },
  {
   "cell_type": "code",
   "execution_count": null,
   "id": "dae713e1-3b06-46a2-b402-caa78d6fb19a",
   "metadata": {},
   "outputs": [],
   "source": [
    "# alternative way of constructing the matrix\n",
    "A2 = zeros(100,20)\n",
    "for i in 1:100\n",
    "    for j in 1:20\n",
    "        A2[i,j] = x[i]^(j-1)\n",
    "    end\n",
    "end"
   ]
  },
  {
   "cell_type": "code",
   "execution_count": null,
   "id": "c8affec2-df5b-4eb3-a194-9d000a1c4ebe",
   "metadata": {},
   "outputs": [],
   "source": [
    "y = x .^2"
   ]
  },
  {
   "cell_type": "code",
   "execution_count": null,
   "id": "6f8de9e0-600a-408a-9dcb-f0cdd042888a",
   "metadata": {},
   "outputs": [],
   "source": [
    "Ainv = pinv(A)"
   ]
  },
  {
   "cell_type": "code",
   "execution_count": null,
   "id": "ef10f52f-0738-4dd8-bfdb-45f59aede987",
   "metadata": {},
   "outputs": [],
   "source": [
    "y1 = y .+ rand(Normal(0,0.1),length(y))\n",
    "b1 = Ainv * y1\n",
    "barplot(b1)  "
   ]
  },
  {
   "cell_type": "code",
   "execution_count": null,
   "id": "bb412d8b-adb7-4a87-83d3-fa0056d3fd2f",
   "metadata": {},
   "outputs": [],
   "source": [
    "fig = Figure()\n",
    "ax = Axis(fig[1,1])\n",
    "lines!(ax,x,y)\n",
    "plot!(ax,x,y1)\n",
    "fig"
   ]
  },
  {
   "cell_type": "code",
   "execution_count": null,
   "id": "c92f34ab-911a-4de5-8a66-16b478a9dd76",
   "metadata": {},
   "outputs": [],
   "source": [
    "# Function to fit Least Squares using the pseudo-inverse\n",
    "function fitlq(A,y)\n",
    "    Ainv = pinv(A)\n",
    "    return Ainv * y\n",
    "end\n",
    "\n",
    "# Function to fit Lasso regression \n",
    "function lasso(A,y,λ1,λ2)\n",
    "    x = Variable(size(A)[2])\n",
    "    problem = minimize(norm(A*x-y,2) + λ1*norm(x,1) + λ2*norm(x,2))\n",
    "    solve!(problem, SCS.Optimizer; silent=true)\n",
    "    return vec(evaluate(x))\n",
    "end"
   ]
  },
  {
   "cell_type": "code",
   "execution_count": null,
   "id": "5e703114-b83a-4a7e-ac06-ae69fae63670",
   "metadata": {},
   "outputs": [],
   "source": [
    "b10ls = lasso(A[:,1:10],y1,0.1,0)  # LASSO fit \n",
    "b10lq = fitlq(A[:,1:10],y1)  # Least-Squares fit "
   ]
  },
  {
   "cell_type": "code",
   "execution_count": null,
   "id": "6bc77c62-5068-434c-ab79-1edb4ab20471",
   "metadata": {},
   "outputs": [],
   "source": [
    "barplot(b10ls)  # LASSO coefficients\n",
    "barplot!(b10lq)  # Least-Squares coefficients\n",
    "current_figure()"
   ]
  },
  {
   "cell_type": "code",
   "execution_count": null,
   "id": "c14269be-c2ed-4039-bf1c-43dabe16dda2",
   "metadata": {},
   "outputs": [],
   "source": [
    "# Error calculation function\n",
    "function compute_error(y_true, y_pred)\n",
    "    return mean(abs2, y_true - y_pred)\n",
    "end"
   ]
  },
  {
   "cell_type": "code",
   "execution_count": null,
   "id": "343031a6-4167-4e62-a016-f1365e513084",
   "metadata": {},
   "outputs": [],
   "source": [
    "function run_trials(degree_range, N_trials, N_data)\n",
    "    errors_ls = []\n",
    "    errors_lasso = []\n",
    "    coefficients_ls = []\n",
    "    coefficients_lasso = []\n",
    "\n",
    "    # Loop through polynomial degrees\n",
    "    for degree in degree_range\n",
    "        err_ls_deg = []\n",
    "        err_lasso_deg = []\n",
    "        coeff_ls_deg = []\n",
    "        coeff_lasso_deg = []\n",
    "        \n",
    "        # Multiple realizations of noisy data\n",
    "        for _ in 1:N_trials\n",
    "            x, y = generate_data(N_data)\n",
    "            \n",
    "            # Least-Squares fitting\n",
    "            β_ls = fitlq(A[:,1:degree], y1)\n",
    "            y_pred_ls = A[:,1:degree] * β_ls\n",
    "            push!(err_ls_deg, compute_error(y1, y_pred_ls))\n",
    "            push!(coeff_ls_deg, β_ls)\n",
    "\n",
    "            # LASSO fitting\n",
    "            β_lasso = lasso(A[:,1:degree], y1, 0.1, 0)\n",
    "            y_pred_lasso = A[:,1:degree] * β_lasso\n",
    "            push!(err_lasso_deg, compute_error(y1, y_pred_lasso))\n",
    "            push!(coeff_lasso_deg, β_lasso)\n",
    "        end\n",
    "        \n",
    "        push!(errors_ls, err_ls_deg)\n",
    "        push!(errors_lasso, err_lasso_deg)\n",
    "        push!(coefficients_ls, coeff_ls_deg)\n",
    "        push!(coefficients_lasso, coeff_lasso_deg)\n",
    "    end\n",
    "    \n",
    "    return errors_ls, errors_lasso, coefficients_ls, coefficients_lasso\n",
    "end\n",
    "\n",
    "# Run the trials\n",
    "degree_range = 1:10\n",
    "N_trials = 100\n",
    "N_data = 50\n",
    "errors_ls, errors_lasso, coefficients_ls, coefficients_lasso = run_trials(degree_range, N_trials, N_data)"
   ]
  },
  {
   "cell_type": "code",
   "execution_count": null,
   "id": "af346e90-3db0-43ad-908b-96cb8308bdf2",
   "metadata": {},
   "outputs": [],
   "source": [
    "function plot_figure_14a(coefficients_ls, degree_range)\n",
    "    fig = Figure(resolution=(600, 400))\n",
    "    ax = Axis(fig[1, 1], title=\"Least Squares Coefficients\", xlabel=\"Polynomial Degree\", ylabel=\"Coefficient\")\n",
    "    boxplot!(ax, degree_range, coefficients_ls, markersize=8, color=:blue)\n",
    "    display(fig)\n",
    "end\n",
    "\n",
    "# Call the plotting function\n",
    "plot_figure_14a(coefficients_ls, degree_range)"
   ]
  },
  {
   "cell_type": "code",
   "execution_count": null,
   "id": "1a3f3674-e9e7-4268-adf3-5f9e2e1f3e26",
   "metadata": {},
   "outputs": [],
   "source": [
    "function plot_figure_14c(coefficients_lasso, degree_range)\n",
    "    fig = Figure(resolution=(600, 400))\n",
    "    ax = Axis(fig[1, 1], title=\"LASSO Coefficients\", xlabel=\"Polynomial Degree\", ylabel=\"Coefficient\")\n",
    "    boxplot!(ax, degree_range, coefficients_lasso, markersize=8, color=:red)\n",
    "    display(fig)\n",
    "end\n",
    "\n",
    "# Call the plotting function\n",
    "plot_figure_14c(coefficients_lasso, degree_range)"
   ]
  },
  {
   "cell_type": "code",
   "execution_count": null,
   "id": "3178bb05-9a75-4318-9c64-1479a5a83486",
   "metadata": {},
   "outputs": [],
   "source": [
    "function plot_figure_15(errors_ls, errors_lasso, degree_range)\n",
    "    fig = Figure(resolution=(1200, 400))\n",
    "\n",
    "    # Least-Squares Error - Figure 15(a)\n",
    "    ax1 = Axis(fig[1, 1], title=\"Error (Least Squares)\", xlabel=\"Polynomial Degree\", ylabel=\"Error\")\n",
    "    boxplot!(ax1, degree_range, errors_ls, markersize=8, color=:green)\n",
    "\n",
    "    # LASSO Error - Figure 15(b)\n",
    "    ax2 = Axis(fig[1, 2], title=\"Error (LASSO)\", xlabel=\"Polynomial Degree\", ylabel=\"Error\")\n",
    "    boxplot!(ax2, degree_range, errors_lasso, markersize=8, color=:purple)\n",
    "    \n",
    "    display(fig)\n",
    "end\n",
    "\n",
    "# Call the plotting function\n",
    "plot_figure_15(errors_ls, errors_lasso, degree_range)"
   ]
  }
 ],
 "metadata": {
  "kernelspec": {
   "display_name": "Julia 1.10.5",
   "language": "julia",
   "name": "julia-1.10"
  },
  "language_info": {
   "file_extension": ".jl",
   "mimetype": "application/julia",
   "name": "julia",
   "version": "1.10.5"
  }
 },
 "nbformat": 4,
 "nbformat_minor": 5
}
