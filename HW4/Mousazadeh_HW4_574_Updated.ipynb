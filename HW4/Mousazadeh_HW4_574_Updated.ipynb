{
 "cells": [
  {
   "cell_type": "code",
   "execution_count": null,
   "id": "0211f28f-a176-4b7e-a274-7dfe19390f79",
   "metadata": {},
   "outputs": [],
   "source": [
    "import Pkg\n",
    "Pkg.activate(\".\")"
   ]
  },
  {
   "cell_type": "code",
   "execution_count": null,
   "id": "1ec6a91d-661d-488a-8b82-1fbf8105e6cd",
   "metadata": {},
   "outputs": [],
   "source": [
    "Pkg.add([\"CairoMakie\", \"LinearAlgebra\", \"Statistics\", \"Distributions\", \"Convex\", \"SCS\"])"
   ]
  },
  {
   "cell_type": "code",
   "execution_count": null,
   "id": "f313b78a-8ff0-4eca-8295-855a2eedddfe",
   "metadata": {},
   "outputs": [],
   "source": [
    "using CairoMakie, LinearAlgebra, Statistics, Distributions, Convex, SCS"
   ]
  },
  {
   "cell_type": "code",
   "execution_count": null,
   "id": "a6d3868a-de51-4eb4-bef2-f40b36e98527",
   "metadata": {},
   "outputs": [],
   "source": [
    "x = LinRange(0,4,100)"
   ]
  },
  {
   "cell_type": "code",
   "execution_count": null,
   "id": "372546bf-e418-4480-a2f7-95dd1df85c4f",
   "metadata": {},
   "outputs": [],
   "source": [
    "col_list = Vector{Float64}[]\n",
    "for p in 0:19\n",
    "    push!(col_list, x .^ p)\n",
    "end\n",
    "A = reduce(hcat,col_list)"
   ]
  },
  {
   "cell_type": "code",
   "execution_count": null,
   "id": "dae713e1-3b06-46a2-b402-caa78d6fb19a",
   "metadata": {},
   "outputs": [],
   "source": [
    "# alternative way of constructing the matrix\n",
    "A2 = zeros(100,20)\n",
    "for i in 1:100\n",
    "    for j in 1:20\n",
    "        A2[i,j] = x[i]^(j-1)\n",
    "    end\n",
    "end"
   ]
  },
  {
   "cell_type": "code",
   "execution_count": null,
   "id": "c8affec2-df5b-4eb3-a194-9d000a1c4ebe",
   "metadata": {},
   "outputs": [],
   "source": [
    "y = x .^ 2"
   ]
  },
  {
   "cell_type": "code",
   "execution_count": null,
   "id": "6f8de9e0-600a-408a-9dcb-f0cdd042888a",
   "metadata": {},
   "outputs": [],
   "source": [
    "Ainv = pinv(A)"
   ]
  },
  {
   "cell_type": "code",
   "execution_count": null,
   "id": "ef10f52f-0738-4dd8-bfdb-45f59aede987",
   "metadata": {},
   "outputs": [],
   "source": [
    "y1 = y .+ rand(Normal(0,0.1),length(y))\n",
    "b1 = Ainv * y1\n",
    "barplot(b1) "
   ]
  },
  {
   "cell_type": "code",
   "execution_count": null,
   "id": "bb412d8b-adb7-4a87-83d3-fa0056d3fd2f",
   "metadata": {},
   "outputs": [],
   "source": [
    "fig = Figure()\n",
    "ax = Axis(fig[1,1])\n",
    "lines!(ax,x,y)\n",
    "plot!(ax,x,y1)\n",
    "fig"
   ]
  },
  {
   "cell_type": "code",
   "execution_count": null,
   "id": "c92f34ab-911a-4de5-8a66-16b478a9dd76",
   "metadata": {},
   "outputs": [],
   "source": [
    "function fitlq(A, y)\n",
    "    Ainv = pinv(A)\n",
    "    return Ainv * y\n",
    "end\n",
    "\n",
    "function lasso(A, y, λ1, λ2)\n",
    "    x = Variable(size(A)[2])\n",
    "    problem = minimize(norm(A * x - y, 2) + λ1 * norm(x, 1) + λ2 * norm(x, 2))\n",
    "    solve!(problem, SCS.Optimizer; silent = true)\n",
    "    return vec(evaluate(x))\n",
    "end"
   ]
  },
  {
   "cell_type": "code",
   "execution_count": null,
   "id": "5e703114-b83a-4a7e-ac06-ae69fae63670",
   "metadata": {},
   "outputs": [],
   "source": [
    "b10ls = lasso(A[:, 1:10], y1, 0.1, 0)\n",
    "b10lq = fitlq(A[:, 1:10], y1)"
   ]
  },
  {
   "cell_type": "code",
   "execution_count": null,
   "id": "6bc77c62-5068-434c-ab79-1edb4ab20471",
   "metadata": {},
   "outputs": [],
   "source": [
    "barplot(b10ls)\n",
    "barplot!(b10lq)\n",
    "current_figure()"
   ]
  },
  {
   "cell_type": "code",
   "execution_count": null,
   "id": "c14269be-c2ed-4039-bf1c-43dabe16dda2",
   "metadata": {},
   "outputs": [],
   "source": [
    "# Perform 100 realizations for both least squares and Lasso on 20th-degree polynomial\n",
    "\n",
    "coeff_lsq_all = []\n",
    "coeff_lasso_all = []\n",
    "\n",
    "for i in 1:100\n",
    "    y_noisy = y .+ rand(Normal(0, 0.1), length(y))\n",
    "    coeff_lsq = fitlq(A, y_noisy)\n",
    "    coeff_lasso = lasso(A, y_noisy, 0.1, 0.01)\n",
    "    push!(coeff_lsq_all, coeff_lsq)\n",
    "    push!(coeff_lasso_all, coeff_lasso)\n",
    "end"
   ]
  },
  {
   "cell_type": "code",
   "execution_count": null,
   "id": "343031a6-4167-4e62-a016-f1365e513084",
   "metadata": {},
   "outputs": [],
   "source": [
    "fig_14a = Figure()\n",
    "ax_14a = Axis(fig_14a[1, 1], title=\"Variance of Least Squares Coefficients\",\n",
    "              xlabel=\"Coefficient Index\", ylabel=\"Variation\")\n",
    "boxplot!(ax_14a, hcat(coeff_lsq_all)..., color=:blue)\n",
    "fig_14a"
   ]
  },
  {
   "cell_type": "code",
   "execution_count": null,
   "id": "af346e90-3db0-43ad-908b-96cb8308bdf2",
   "metadata": {},
   "outputs": [],
   "source": [
    "fig_14c = Figure()\n",
    "ax_14c = Axis(fig_14c[1, 1], title=\"Variance of Lasso Coefficients\",\n",
    "              xlabel=\"Coefficient Index\", ylabel=\"Variation\")\n",
    "boxplot!(ax_14c, hcat(coeff_lasso_all)..., color=:purple)\n",
    "fig_14c"
   ]
  },
  {
   "cell_type": "code",
   "execution_count": null,
   "id": "1a3f3674-e9e7-4268-adf3-5f9e2e1f3e26",
   "metadata": {},
   "outputs": [],
   "source": [
    "errors_lsq = []\n",
    "errors_lasso = []\n",
    "\n",
    "for i in 1:100\n",
    "    y_noisy = y .+ rand(Normal(0, 0.1), length(y))\n",
    "    pred_lsq = A * fitlq(A, y_noisy)\n",
    "    pred_lasso = A * lasso(A, y_noisy, 0.1, 0.01)\n",
    "    push!(errors_lsq, mean((y_noisy - pred_lsq) .^ 2))\n",
    "    push!(errors_lasso, mean((y_noisy - pred_lasso) .^ 2))\n",
    "end"
   ]
  },
  {
   "cell_type": "code",
   "execution_count": null,
   "id": "3178bb05-9a75-4318-9c64-1479a5a83486",
   "metadata": {},
   "outputs": [],
   "source": [
    "fig_15a = Figure()\n",
    "ax_15a = Axis(fig_15a[1, 1], title=\"Error Comparison for Least Squares and Lasso\",\n",
    "              xlabel=\"Regression Method\", ylabel=\"Error\")\n",
    "boxplot!(ax_15a, [errors_lsq, errors_lasso], color=:green)\n",
    "ax_15a.xticks = (1:2, [\"Least Squares\", \"Lasso\"])\n",
    "fig_15a\n"
   ]
  },
  {
   "cell_type": "code",
   "execution_count": null,
   "id": "52625dc0-f011-4aca-934d-f7a60d3d6c6b",
   "metadata": {},
   "outputs": [],
   "source": [
    "fig_15b = Figure()\n",
    "ax_15b = Axis(fig_15b[1, 1], title=\"Least Squares Error Distribution\",\n",
    "              xlabel=\"Realization\", ylabel=\"Error\")\n",
    "boxplot!(ax_15b, errors_lsq, color=:blue)\n",
    "fig_15b"
   ]
  },
  {
   "cell_type": "code",
   "execution_count": null,
   "id": "0e4a2166-198d-4e32-a126-dfc5f3056f53",
   "metadata": {},
   "outputs": [],
   "source": [
    "fig_15c = Figure()\n",
    "ax_15c = Axis(fig_15c[1, 1], title=\"Lasso Error Distribution\",\n",
    "              xlabel=\"Realization\", ylabel=\"Error\")\n",
    "boxplot!(ax_15c, errors_lasso, color=:purple)\n",
    "fig_15c"
   ]
  }
 ],
 "metadata": {
  "kernelspec": {
   "display_name": "Julia 1.10.5",
   "language": "julia",
   "name": "julia-1.10"
  },
  "language_info": {
   "file_extension": ".jl",
   "mimetype": "application/julia",
   "name": "julia",
   "version": "1.10.5"
  }
 },
 "nbformat": 4,
 "nbformat_minor": 5
}
