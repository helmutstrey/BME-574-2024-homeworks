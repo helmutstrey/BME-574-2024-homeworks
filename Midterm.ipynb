{
 "cells": [
  {
   "cell_type": "code",
   "execution_count": 4,
   "id": "ecf5bb72-c4f6-460f-bb97-8c80eefd0505",
   "metadata": {},
   "outputs": [
    {
     "name": "stderr",
     "output_type": "stream",
     "text": [
      "\u001b[32m\u001b[1m  Activating\u001b[22m\u001b[39m project at `~/Documents/programming/BME-574-2024-homeworks`\n"
     ]
    }
   ],
   "source": [
    "import Pkg\n",
    "Pkg.activate(\".\")"
   ]
  },
  {
   "cell_type": "code",
   "execution_count": 5,
   "id": "9fba6971-2ed2-4a69-9fbb-354ff54daf95",
   "metadata": {},
   "outputs": [
    {
     "name": "stderr",
     "output_type": "stream",
     "text": [
      "\u001b[32m\u001b[1m   Resolving\u001b[22m\u001b[39m package versions...\n",
      "\u001b[32m\u001b[1m  No Changes\u001b[22m\u001b[39m to `~/Documents/programming/BME-574-2024-homeworks/Project.toml`\n",
      "\u001b[32m\u001b[1m  No Changes\u001b[22m\u001b[39m to `~/Documents/programming/BME-574-2024-homeworks/Manifest.toml`\n"
     ]
    }
   ],
   "source": [
    "Pkg.add([\"Random\",\"Images\",\"Colors\",\"MAT\",\"LinearAlgebra\",\"MLDatasets\"])"
   ]
  },
  {
   "cell_type": "code",
   "execution_count": 6,
   "id": "9b3d40e5-e76d-40ed-9505-836c73102594",
   "metadata": {},
   "outputs": [],
   "source": [
    "using Images, Colors, MLDatasets"
   ]
  },
  {
   "cell_type": "code",
   "execution_count": 7,
   "id": "abebacf1-30f5-4510-a608-5838317483ec",
   "metadata": {},
   "outputs": [
    {
     "data": {
      "text/plain": [
       "dataset MNIST:\n",
       "  metadata  =>    Dict{String, Any} with 3 entries\n",
       "  split     =>    :train\n",
       "  features  =>    28×28×60000 Array{Float32, 3}\n",
       "  targets   =>    60000-element Vector{Int64}"
      ]
     },
     "execution_count": 7,
     "metadata": {},
     "output_type": "execute_result"
    }
   ],
   "source": [
    "dataset = MNIST()"
   ]
  },
  {
   "cell_type": "code",
   "execution_count": 9,
   "id": "3d6a5d01-2ee8-48df-9ae3-5508863793ac",
   "metadata": {},
   "outputs": [
    {
     "data": {
      "text/plain": [
       "dataset MNIST:\n",
       "  metadata  =>    Dict{String, Any} with 3 entries\n",
       "  split     =>    :test\n",
       "  features  =>    28×28×10000 Array{Float32, 3}\n",
       "  targets   =>    10000-element Vector{Int64}"
      ]
     },
     "execution_count": 9,
     "metadata": {},
     "output_type": "execute_result"
    }
   ],
   "source": [
    "testset = MNIST(:test)"
   ]
  },
  {
   "cell_type": "code",
   "execution_count": 10,
   "id": "dab808ec-741d-4b61-82f8-0537f52c14e3",
   "metadata": {},
   "outputs": [
    {
     "data": {
      "text/plain": [
       "60000-element Vector{Int64}:\n",
       " 5\n",
       " 0\n",
       " 4\n",
       " 1\n",
       " 9\n",
       " 2\n",
       " 1\n",
       " 3\n",
       " 1\n",
       " 4\n",
       " 3\n",
       " 5\n",
       " 3\n",
       " ⋮\n",
       " 7\n",
       " 8\n",
       " 9\n",
       " 2\n",
       " 9\n",
       " 5\n",
       " 1\n",
       " 8\n",
       " 3\n",
       " 5\n",
       " 6\n",
       " 8"
      ]
     },
     "execution_count": 10,
     "metadata": {},
     "output_type": "execute_result"
    }
   ],
   "source": [
    "dataset.targets"
   ]
  },
  {
   "cell_type": "code",
   "execution_count": 11,
   "id": "bf64b9e8-451a-49fc-aa68-c612764d48d2",
   "metadata": {},
   "outputs": [
    {
     "data": {
      "text/plain": [
       "28×28×60000 Array{Float32, 3}:\n",
       "[:, :, 1] =\n",
       " 0.0  0.0  0.0  0.0  0.0  0.0        …  0.0       0.0        0.0  0.0  0.0\n",
       " 0.0  0.0  0.0  0.0  0.0  0.0           0.0       0.0        0.0  0.0  0.0\n",
       " 0.0  0.0  0.0  0.0  0.0  0.0           0.0       0.0        0.0  0.0  0.0\n",
       " 0.0  0.0  0.0  0.0  0.0  0.0           0.0       0.0        0.0  0.0  0.0\n",
       " 0.0  0.0  0.0  0.0  0.0  0.0           0.215686  0.533333   0.0  0.0  0.0\n",
       " 0.0  0.0  0.0  0.0  0.0  0.0        …  0.67451   0.992157   0.0  0.0  0.0\n",
       " 0.0  0.0  0.0  0.0  0.0  0.0           0.886275  0.992157   0.0  0.0  0.0\n",
       " 0.0  0.0  0.0  0.0  0.0  0.0           0.992157  0.992157   0.0  0.0  0.0\n",
       " 0.0  0.0  0.0  0.0  0.0  0.0           0.992157  0.831373   0.0  0.0  0.0\n",
       " 0.0  0.0  0.0  0.0  0.0  0.0           0.992157  0.529412   0.0  0.0  0.0\n",
       " 0.0  0.0  0.0  0.0  0.0  0.0        …  0.992157  0.517647   0.0  0.0  0.0\n",
       " 0.0  0.0  0.0  0.0  0.0  0.0           0.956863  0.0627451  0.0  0.0  0.0\n",
       " 0.0  0.0  0.0  0.0  0.0  0.0117647     0.521569  0.0        0.0  0.0  0.0\n",
       " ⋮                        ⋮          ⋱                       ⋮         \n",
       " 0.0  0.0  0.0  0.0  0.0  0.494118      0.0       0.0        0.0  0.0  0.0\n",
       " 0.0  0.0  0.0  0.0  0.0  0.533333      0.0       0.0        0.0  0.0  0.0\n",
       " 0.0  0.0  0.0  0.0  0.0  0.686275      0.0       0.0        0.0  0.0  0.0\n",
       " 0.0  0.0  0.0  0.0  0.0  0.101961      0.0       0.0        0.0  0.0  0.0\n",
       " 0.0  0.0  0.0  0.0  0.0  0.65098    …  0.0       0.0        0.0  0.0  0.0\n",
       " 0.0  0.0  0.0  0.0  0.0  1.0           0.0       0.0        0.0  0.0  0.0\n",
       " 0.0  0.0  0.0  0.0  0.0  0.968627      0.0       0.0        0.0  0.0  0.0\n",
       " 0.0  0.0  0.0  0.0  0.0  0.498039      0.0       0.0        0.0  0.0  0.0\n",
       " 0.0  0.0  0.0  0.0  0.0  0.0           0.0       0.0        0.0  0.0  0.0\n",
       " 0.0  0.0  0.0  0.0  0.0  0.0        …  0.0       0.0        0.0  0.0  0.0\n",
       " 0.0  0.0  0.0  0.0  0.0  0.0           0.0       0.0        0.0  0.0  0.0\n",
       " 0.0  0.0  0.0  0.0  0.0  0.0           0.0       0.0        0.0  0.0  0.0\n",
       "\n",
       "[:, :, 2] =\n",
       " 0.0  0.0  0.0  0.0  0.0       0.0       …  0.0        0.0  0.0  0.0  0.0\n",
       " 0.0  0.0  0.0  0.0  0.0       0.0          0.0        0.0  0.0  0.0  0.0\n",
       " 0.0  0.0  0.0  0.0  0.0       0.0          0.0        0.0  0.0  0.0  0.0\n",
       " 0.0  0.0  0.0  0.0  0.0       0.0          0.0        0.0  0.0  0.0  0.0\n",
       " 0.0  0.0  0.0  0.0  0.0       0.0          0.0        0.0  0.0  0.0  0.0\n",
       " 0.0  0.0  0.0  0.0  0.0       0.0       …  0.0        0.0  0.0  0.0  0.0\n",
       " 0.0  0.0  0.0  0.0  0.0       0.0          0.0        0.0  0.0  0.0  0.0\n",
       " 0.0  0.0  0.0  0.0  0.0       0.0          0.0980392  0.0  0.0  0.0  0.0\n",
       " 0.0  0.0  0.0  0.0  0.0       0.0          0.501961   0.0  0.0  0.0  0.0\n",
       " 0.0  0.0  0.0  0.0  0.0       0.0          0.988235   0.0  0.0  0.0  0.0\n",
       " 0.0  0.0  0.0  0.0  0.0       0.0       …  0.992157   0.0  0.0  0.0  0.0\n",
       " 0.0  0.0  0.0  0.0  0.0       0.0          0.988235   0.0  0.0  0.0  0.0\n",
       " 0.0  0.0  0.0  0.0  0.0       0.0          0.552941   0.0  0.0  0.0  0.0\n",
       " ⋮                             ⋮         ⋱                  ⋮         \n",
       " 0.0  0.0  0.0  0.0  0.623529  0.988235     0.0        0.0  0.0  0.0  0.0\n",
       " 0.0  0.0  0.0  0.0  0.992157  0.988235     0.0        0.0  0.0  0.0  0.0\n",
       " 0.0  0.0  0.0  0.0  0.623529  0.988235     0.0        0.0  0.0  0.0  0.0\n",
       " 0.0  0.0  0.0  0.0  0.196078  0.929412     0.0        0.0  0.0  0.0  0.0\n",
       " 0.0  0.0  0.0  0.0  0.0       0.0       …  0.0        0.0  0.0  0.0  0.0\n",
       " 0.0  0.0  0.0  0.0  0.0       0.0          0.0        0.0  0.0  0.0  0.0\n",
       " 0.0  0.0  0.0  0.0  0.0       0.0          0.0        0.0  0.0  0.0  0.0\n",
       " 0.0  0.0  0.0  0.0  0.0       0.0          0.0        0.0  0.0  0.0  0.0\n",
       " 0.0  0.0  0.0  0.0  0.0       0.0          0.0        0.0  0.0  0.0  0.0\n",
       " 0.0  0.0  0.0  0.0  0.0       0.0       …  0.0        0.0  0.0  0.0  0.0\n",
       " 0.0  0.0  0.0  0.0  0.0       0.0          0.0        0.0  0.0  0.0  0.0\n",
       " 0.0  0.0  0.0  0.0  0.0       0.0          0.0        0.0  0.0  0.0  0.0\n",
       "\n",
       "[:, :, 3] =\n",
       " 0.0  0.0  0.0  0.0  0.0  0.0       …  0.0       0.0       0.0  0.0  0.0\n",
       " 0.0  0.0  0.0  0.0  0.0  0.0          0.0       0.0       0.0  0.0  0.0\n",
       " 0.0  0.0  0.0  0.0  0.0  0.0          0.0       0.0       0.0  0.0  0.0\n",
       " 0.0  0.0  0.0  0.0  0.0  0.0          0.0       0.0       0.0  0.0  0.0\n",
       " 0.0  0.0  0.0  0.0  0.0  0.0          0.0       0.0       0.0  0.0  0.0\n",
       " 0.0  0.0  0.0  0.0  0.0  0.0       …  0.0       0.0       0.0  0.0  0.0\n",
       " 0.0  0.0  0.0  0.0  0.0  0.0          0.0       0.0       0.0  0.0  0.0\n",
       " 0.0  0.0  0.0  0.0  0.0  0.0          0.0       0.0       0.0  0.0  0.0\n",
       " 0.0  0.0  0.0  0.0  0.0  0.0          0.0       0.0       0.0  0.0  0.0\n",
       " 0.0  0.0  0.0  0.0  0.0  0.0          0.0       0.0       0.0  0.0  0.0\n",
       " 0.0  0.0  0.0  0.0  0.0  0.0       …  0.0       0.0       0.0  0.0  0.0\n",
       " 0.0  0.0  0.0  0.0  0.0  0.0          0.0       0.0       0.0  0.0  0.0\n",
       " 0.0  0.0  0.0  0.0  0.0  0.0          0.0       0.0       0.0  0.0  0.0\n",
       " ⋮                        ⋮         ⋱                      ⋮         \n",
       " 0.0  0.0  0.0  0.0  0.0  0.0          0.0       0.0       0.0  0.0  0.0\n",
       " 0.0  0.0  0.0  0.0  0.0  0.0          0.662745  0.376471  0.0  0.0  0.0\n",
       " 0.0  0.0  0.0  0.0  0.0  0.0          1.0       0.996078  0.0  0.0  0.0\n",
       " 0.0  0.0  0.0  0.0  0.0  0.0          0.6       0.6       0.0  0.0  0.0\n",
       " 0.0  0.0  0.0  0.0  0.0  0.262745  …  0.0       0.0       0.0  0.0  0.0\n",
       " 0.0  0.0  0.0  0.0  0.0  0.909804     0.0       0.0       0.0  0.0  0.0\n",
       " 0.0  0.0  0.0  0.0  0.0  0.152941     0.0       0.0       0.0  0.0  0.0\n",
       " 0.0  0.0  0.0  0.0  0.0  0.0          0.0       0.0       0.0  0.0  0.0\n",
       " 0.0  0.0  0.0  0.0  0.0  0.0          0.0       0.0       0.0  0.0  0.0\n",
       " 0.0  0.0  0.0  0.0  0.0  0.0       …  0.0       0.0       0.0  0.0  0.0\n",
       " 0.0  0.0  0.0  0.0  0.0  0.0          0.0       0.0       0.0  0.0  0.0\n",
       " 0.0  0.0  0.0  0.0  0.0  0.0          0.0       0.0       0.0  0.0  0.0\n",
       "\n",
       ";;; … \n",
       "\n",
       "[:, :, 59998] =\n",
       " 0.0  0.0  0.0  0.0  0.0  0.0       …  0.0       0.0        0.0  0.0  0.0\n",
       " 0.0  0.0  0.0  0.0  0.0  0.0          0.0       0.0        0.0  0.0  0.0\n",
       " 0.0  0.0  0.0  0.0  0.0  0.0          0.0       0.0        0.0  0.0  0.0\n",
       " 0.0  0.0  0.0  0.0  0.0  0.0          0.0       0.0        0.0  0.0  0.0\n",
       " 0.0  0.0  0.0  0.0  0.0  0.0          0.0       0.0        0.0  0.0  0.0\n",
       " 0.0  0.0  0.0  0.0  0.0  0.0       …  0.45098   0.0        0.0  0.0  0.0\n",
       " 0.0  0.0  0.0  0.0  0.0  0.0          0.941176  0.0        0.0  0.0  0.0\n",
       " 0.0  0.0  0.0  0.0  0.0  0.0          0.988235  0.615686   0.0  0.0  0.0\n",
       " 0.0  0.0  0.0  0.0  0.0  0.0          0.639216  0.992157   0.0  0.0  0.0\n",
       " 0.0  0.0  0.0  0.0  0.0  0.0          0.576471  0.992157   0.0  0.0  0.0\n",
       " 0.0  0.0  0.0  0.0  0.0  0.0       …  0.576471  0.992157   0.0  0.0  0.0\n",
       " 0.0  0.0  0.0  0.0  0.0  0.0          0.576471  0.992157   0.0  0.0  0.0\n",
       " 0.0  0.0  0.0  0.0  0.0  0.0          0.619608  0.992157   0.0  0.0  0.0\n",
       " ⋮                        ⋮         ⋱                       ⋮         \n",
       " 0.0  0.0  0.0  0.0  0.0  0.0          0.721569  0.0235294  0.0  0.0  0.0\n",
       " 0.0  0.0  0.0  0.0  0.0  0.0          0.262745  0.0        0.0  0.0  0.0\n",
       " 0.0  0.0  0.0  0.0  0.0  0.0          0.0       0.0        0.0  0.0  0.0\n",
       " 0.0  0.0  0.0  0.0  0.0  0.376471     0.0       0.0        0.0  0.0  0.0\n",
       " 0.0  0.0  0.0  0.0  0.0  0.47451   …  0.0       0.0        0.0  0.0  0.0\n",
       " 0.0  0.0  0.0  0.0  0.0  0.835294     0.0       0.0        0.0  0.0  0.0\n",
       " 0.0  0.0  0.0  0.0  0.0  1.0          0.0       0.0        0.0  0.0  0.0\n",
       " 0.0  0.0  0.0  0.0  0.0  1.0          0.0       0.0        0.0  0.0  0.0\n",
       " 0.0  0.0  0.0  0.0  0.0  0.47451      0.0       0.0        0.0  0.0  0.0\n",
       " 0.0  0.0  0.0  0.0  0.0  0.0       …  0.0       0.0        0.0  0.0  0.0\n",
       " 0.0  0.0  0.0  0.0  0.0  0.0          0.0       0.0        0.0  0.0  0.0\n",
       " 0.0  0.0  0.0  0.0  0.0  0.0          0.0       0.0        0.0  0.0  0.0\n",
       "\n",
       "[:, :, 59999] =\n",
       " 0.0  0.0  0.0       0.0        0.0        …  0.0  0.0  0.0  0.0  0.0  0.0\n",
       " 0.0  0.0  0.0       0.0        0.0           0.0  0.0  0.0  0.0  0.0  0.0\n",
       " 0.0  0.0  0.0       0.0        0.0           0.0  0.0  0.0  0.0  0.0  0.0\n",
       " 0.0  0.0  0.0       0.0        0.0           0.0  0.0  0.0  0.0  0.0  0.0\n",
       " 0.0  0.0  0.0       0.0        0.0           0.0  0.0  0.0  0.0  0.0  0.0\n",
       " 0.0  0.0  0.0       0.0        0.0        …  0.0  0.0  0.0  0.0  0.0  0.0\n",
       " 0.0  0.0  0.0       0.0        0.0           0.0  0.0  0.0  0.0  0.0  0.0\n",
       " 0.0  0.0  0.0       0.0        0.0           0.0  0.0  0.0  0.0  0.0  0.0\n",
       " 0.0  0.0  0.0       0.0        0.0           0.0  0.0  0.0  0.0  0.0  0.0\n",
       " 0.0  0.0  0.0       0.0        0.0           0.0  0.0  0.0  0.0  0.0  0.0\n",
       " 0.0  0.0  0.0       0.0        0.0        …  0.0  0.0  0.0  0.0  0.0  0.0\n",
       " 0.0  0.0  0.0       0.0        0.0           0.0  0.0  0.0  0.0  0.0  0.0\n",
       " 0.0  0.0  0.0       0.0        0.0           0.0  0.0  0.0  0.0  0.0  0.0\n",
       " ⋮                                         ⋱                 ⋮         \n",
       " 0.0  0.0  0.0       0.0        0.0313726     0.0  0.0  0.0  0.0  0.0  0.0\n",
       " 0.0  0.0  0.0       0.0313726  0.505882      0.0  0.0  0.0  0.0  0.0  0.0\n",
       " 0.0  0.0  0.215686  0.596078   0.988235      0.0  0.0  0.0  0.0  0.0  0.0\n",
       " 0.0  0.0  0.752941  0.988235   0.745098      0.0  0.0  0.0  0.0  0.0  0.0\n",
       " 0.0  0.0  0.901961  0.756863   0.0352941  …  0.0  0.0  0.0  0.0  0.0  0.0\n",
       " 0.0  0.0  0.105882  0.105882   0.0           0.0  0.0  0.0  0.0  0.0  0.0\n",
       " 0.0  0.0  0.0       0.0        0.0           0.0  0.0  0.0  0.0  0.0  0.0\n",
       " 0.0  0.0  0.0       0.0        0.0           0.0  0.0  0.0  0.0  0.0  0.0\n",
       " 0.0  0.0  0.0       0.0        0.0           0.0  0.0  0.0  0.0  0.0  0.0\n",
       " 0.0  0.0  0.0       0.0        0.0        …  0.0  0.0  0.0  0.0  0.0  0.0\n",
       " 0.0  0.0  0.0       0.0        0.0           0.0  0.0  0.0  0.0  0.0  0.0\n",
       " 0.0  0.0  0.0       0.0        0.0           0.0  0.0  0.0  0.0  0.0  0.0\n",
       "\n",
       "[:, :, 60000] =\n",
       " 0.0  0.0  0.0  0.0  0.0  0.0  …  0.0       0.0       0.0  0.0  0.0\n",
       " 0.0  0.0  0.0  0.0  0.0  0.0     0.0       0.0       0.0  0.0  0.0\n",
       " 0.0  0.0  0.0  0.0  0.0  0.0     0.0       0.0       0.0  0.0  0.0\n",
       " 0.0  0.0  0.0  0.0  0.0  0.0     0.0       0.0       0.0  0.0  0.0\n",
       " 0.0  0.0  0.0  0.0  0.0  0.0     0.0       0.0       0.0  0.0  0.0\n",
       " 0.0  0.0  0.0  0.0  0.0  0.0  …  0.0       0.0       0.0  0.0  0.0\n",
       " 0.0  0.0  0.0  0.0  0.0  0.0     0.101961  0.0       0.0  0.0  0.0\n",
       " 0.0  0.0  0.0  0.0  0.0  0.0     0.898039  0.286275  0.0  0.0  0.0\n",
       " 0.0  0.0  0.0  0.0  0.0  0.0     0.976471  0.756863  0.0  0.0  0.0\n",
       " 0.0  0.0  0.0  0.0  0.0  0.0     0.690196  0.772549  0.0  0.0  0.0\n",
       " 0.0  0.0  0.0  0.0  0.0  0.0  …  0.870588  0.52549   0.0  0.0  0.0\n",
       " 0.0  0.0  0.0  0.0  0.0  0.0     0.956863  0.0       0.0  0.0  0.0\n",
       " 0.0  0.0  0.0  0.0  0.0  0.0     0.172549  0.0       0.0  0.0  0.0\n",
       " ⋮                        ⋮    ⋱                      ⋮         \n",
       " 0.0  0.0  0.0  0.0  0.0  0.0     0.0       0.0       0.0  0.0  0.0\n",
       " 0.0  0.0  0.0  0.0  0.0  0.0     0.0       0.0       0.0  0.0  0.0\n",
       " 0.0  0.0  0.0  0.0  0.0  0.0     0.0       0.0       0.0  0.0  0.0\n",
       " 0.0  0.0  0.0  0.0  0.0  0.0     0.0       0.0       0.0  0.0  0.0\n",
       " 0.0  0.0  0.0  0.0  0.0  0.0  …  0.0       0.0       0.0  0.0  0.0\n",
       " 0.0  0.0  0.0  0.0  0.0  0.0     0.0       0.0       0.0  0.0  0.0\n",
       " 0.0  0.0  0.0  0.0  0.0  0.0     0.0       0.0       0.0  0.0  0.0\n",
       " 0.0  0.0  0.0  0.0  0.0  0.0     0.0       0.0       0.0  0.0  0.0\n",
       " 0.0  0.0  0.0  0.0  0.0  0.0     0.0       0.0       0.0  0.0  0.0\n",
       " 0.0  0.0  0.0  0.0  0.0  0.0  …  0.0       0.0       0.0  0.0  0.0\n",
       " 0.0  0.0  0.0  0.0  0.0  0.0     0.0       0.0       0.0  0.0  0.0\n",
       " 0.0  0.0  0.0  0.0  0.0  0.0     0.0       0.0       0.0  0.0  0.0"
      ]
     },
     "execution_count": 11,
     "metadata": {},
     "output_type": "execute_result"
    }
   ],
   "source": [
    "dataset.features"
   ]
  },
  {
   "cell_type": "code",
   "execution_count": 17,
   "id": "136c9576-4e4f-4879-b11e-7de0994de61b",
   "metadata": {},
   "outputs": [
    {
     "data": {
      "image/png": "[encoded data removed]",
      "text/html": [
       "<img src=\"data:image/png;base64,iVBORw0KGgoAAAANSUhEUgAAAHAAAABwCAAAAADji6uXAAAABGdBTUEAALGPC/xhBQAAAAFzUkdCAK7OHOkAAAAgY0hSTQAAeiYAAICEAAD6AAAAgOgAAHUwAADqYAAAOpgAABdwnLpRPAAAAf5JREFUaAW9wT+I1QUAB/DPxRf7Q4PEXeDikG22STRlS1xbOHkOOTganFMQooSgNtTU0pJDosEhIogtR0uUi9AmuES1iMtFxAMJHO45/IYb5L177xd8P58oi7Ioi7Ioi7Ioi7Ioi7Ioi7Ioi7Ioi7Ioi7Ioi7Ioi7Ioi7Ioi7Ioi7JY0ns4jeM4avAZnuB93MADs0VZlEVZLGED32AVK/gZa/jaYAWrOGW2KIuyKIsFBO/iO7yGX3AZ9/EybmHd4DfzRVmURVks4BNcM/gJG5gYbGDd4DGumy/KoizKYh9XcB5TfIuLmNhzwZ5z2DFflEVZlMUcX+A8nmEbn+M/g1ewjsNYwRXctb8oi7IoixkO4lNMsY0T9ryNH3DM4Da+spgoi7IoixkOYNXgHN7EGXyMd/A6ppjiJp5aTJRFWZTFDM+wgzX8hak9TzDBIfyNexYXZVEWZTHDvziBH/EG/sBdfI9/sIVD2LKcKIuyKIs5HmDNi47jA+ziT8uJsiiLshjhVexiii3LibIoi7IYYdt4URZlURYjfGS8KIuyKIsRjhgvyqIsymKEX/ESdi0vyqIsymKEh/gdb+EIdiwuyqIsymKkL3ENV7GJRxYTZVEWZTHSHZzCh7iEM3hqf1EWZVEWI01wEldxFpfwyP6iLMqiLP6HCTaxaXFRFmVR9hxr7UyvfehgBAAAAABJRU5ErkJg\">"
      ],
      "text/plain": [
       "28×28 Array{Gray{Float32},2} with eltype Gray{Float32}:\n",
       " Gray{Float32}(0.0)  Gray{Float32}(0.0)  …  Gray{Float32}(0.0)\n",
       " Gray{Float32}(0.0)  Gray{Float32}(0.0)     Gray{Float32}(0.0)\n",
       " Gray{Float32}(0.0)  Gray{Float32}(0.0)     Gray{Float32}(0.0)\n",
       " Gray{Float32}(0.0)  Gray{Float32}(0.0)     Gray{Float32}(0.0)\n",
       " Gray{Float32}(0.0)  Gray{Float32}(0.0)     Gray{Float32}(0.0)\n",
       " Gray{Float32}(0.0)  Gray{Float32}(0.0)  …  Gray{Float32}(0.0)\n",
       " Gray{Float32}(0.0)  Gray{Float32}(0.0)     Gray{Float32}(0.0)\n",
       " Gray{Float32}(0.0)  Gray{Float32}(0.0)     Gray{Float32}(0.0)\n",
       " Gray{Float32}(0.0)  Gray{Float32}(0.0)     Gray{Float32}(0.0)\n",
       " Gray{Float32}(0.0)  Gray{Float32}(0.0)     Gray{Float32}(0.0)\n",
       " Gray{Float32}(0.0)  Gray{Float32}(0.0)  …  Gray{Float32}(0.0)\n",
       " Gray{Float32}(0.0)  Gray{Float32}(0.0)     Gray{Float32}(0.0)\n",
       " Gray{Float32}(0.0)  Gray{Float32}(0.0)     Gray{Float32}(0.0)\n",
       " ⋮                                       ⋱  \n",
       " Gray{Float32}(0.0)  Gray{Float32}(0.0)     Gray{Float32}(0.0)\n",
       " Gray{Float32}(0.0)  Gray{Float32}(0.0)     Gray{Float32}(0.0)\n",
       " Gray{Float32}(0.0)  Gray{Float32}(0.0)     Gray{Float32}(0.0)\n",
       " Gray{Float32}(0.0)  Gray{Float32}(0.0)     Gray{Float32}(0.0)\n",
       " Gray{Float32}(0.0)  Gray{Float32}(0.0)  …  Gray{Float32}(0.0)\n",
       " Gray{Float32}(0.0)  Gray{Float32}(0.0)     Gray{Float32}(0.0)\n",
       " Gray{Float32}(0.0)  Gray{Float32}(0.0)     Gray{Float32}(0.0)\n",
       " Gray{Float32}(0.0)  Gray{Float32}(0.0)     Gray{Float32}(0.0)\n",
       " Gray{Float32}(0.0)  Gray{Float32}(0.0)     Gray{Float32}(0.0)\n",
       " Gray{Float32}(0.0)  Gray{Float32}(0.0)  …  Gray{Float32}(0.0)\n",
       " Gray{Float32}(0.0)  Gray{Float32}(0.0)     Gray{Float32}(0.0)\n",
       " Gray{Float32}(0.0)  Gray{Float32}(0.0)     Gray{Float32}(0.0)"
      ]
     },
     "execution_count": 17,
     "metadata": {},
     "output_type": "execute_result"
    }
   ],
   "source": [
    "Gray.(dataset.features[:,:,5]')"
   ]
  },
  {
   "cell_type": "markdown",
   "id": "b491bcc4-fb79-4b61-ad4d-cf53c770331a",
   "metadata": {},
   "source": [
    "## BME 574 Midterm Exam (take-home)"
   ]
  },
  {
   "cell_type": "markdown",
   "id": "4a3fc123-f991-438e-a7df-662a9ea14bcd",
   "metadata": {},
   "source": [
    "The dataset above is the famous MNIST dataset of handwritten digits (28x28 grayscale images).\n",
    "The challenge for this midterm is to find the most informative pixels for each digit from this dataset\n",
    "using techniques that you have learning previously.  Here is how to start:\n",
    "1. Create a set of output (label) vectors $\\{y_j\\}$ of length 10 that represent the labels (0-9)\n",
    "here are a few examples:\n",
    "$$\n",
    "\\begin{align}\n",
    "^{\"}1^{\"}=\\begin{bmatrix} 1\\\\0\\\\0\\\\ \\vdots \\\\0 \\end{bmatrix}\n",
    "\\end{align}\n",
    "$$\n",
    "$$\n",
    "\\begin{align}\n",
    "^{\"}3^{\"}=\\begin{bmatrix} 0\\\\0\\\\1\\\\ \\vdots \\\\0 \\end{bmatrix}\n",
    "\\end{align}\n",
    "$$\n",
    "$$\n",
    "\\begin{align}\n",
    "^{\"}0^{\"}=\\begin{bmatrix} 0\\\\0\\\\0\\\\ \\vdots \\\\1 \\end{bmatrix}\n",
    "\\end{align}\n",
    "$$\n",
    "2. Now let $B$ be the set of output (label) vectors\n",
    "\n",
    "$$\n",
    "\\begin{align}\n",
    "B = \\begin{bmatrix} y_{1} & y_{2} & y_{3} & \\ldots & y_{n}\\end{bmatrix}\n",
    "\\end{align}\n",
    "$$\n",
    "\n",
    "3. Let the matrix $A$ be the corresponding reshaped (vectorized) MNIST images (one in each row)\n",
    "\n",
    "$$\n",
    "\\begin{align}\n",
    "A = \\begin{bmatrix} x_{1} & x_{2} & x_{3} & \\ldots & x_{n}\\end{bmatrix}\n",
    "\\end{align}\n",
    "$$\n",
    "\n",
    "4. $AX = B$ maps from the image space to the label space\n",
    "\n",
    "Your task is to use solvers for $AX=B$ that promote sparsity to rank the pixels in the MNIST dataset that are most informative for correctly labeling the digits. You will have to come up with your own heuristics or empirical rules for this. Be sure to visualize the results from X. Apply your most important pixels to the test data set to see how accurate you are with as few pixels as possible. Redo the analysis with each digit individually to ﬁnd the most important pixels for each digit. Think about the interpretation of what you are doing with this $AX = B$ problem.\n",
    "Hint: for testing, it may be a good idea to start with a smaller dataset (e.g. 1000 images)"
   ]
  },
  {
   "cell_type": "code",
   "execution_count": null,
   "id": "7430fa10-3486-4df6-8ec3-63c92a164a3f",
   "metadata": {},
   "outputs": [],
   "source": []
  }
 ],
 "metadata": {
  "kernelspec": {
   "display_name": "Julia 1.10.5",
   "language": "julia",
   "name": "julia-1.10"
  },
  "language_info": {
   "file_extension": ".jl",
   "mimetype": "application/julia",
   "name": "julia",
   "version": "1.10.5"
  }
 },
 "nbformat": 4,
 "nbformat_minor": 5
}
