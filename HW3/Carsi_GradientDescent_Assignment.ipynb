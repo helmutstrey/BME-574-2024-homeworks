{
 "cells": [
  {
   "cell_type": "code",
   "execution_count": 13,
   "id": "594f92b8",
   "metadata": {},
   "outputs": [
    {
     "name": "stderr",
     "output_type": "stream",
     "text": [
      "\u001b[32m\u001b[1m  Activating\u001b[22m\u001b[39m project at `C:\\Users\\carsi\\BME 574`\n",
      "\u001b[32m\u001b[1m   Resolving\u001b[22m\u001b[39m package versions...\n",
      "\u001b[32m\u001b[1m  No Changes\u001b[22m\u001b[39m to `C:\\Users\\carsi\\BME 574\\Project.toml`\n",
      "\u001b[32m\u001b[1m  No Changes\u001b[22m\u001b[39m to `C:\\Users\\carsi\\BME 574\\Manifest.toml`\n"
     ]
    }
   ],
   "source": [
    "import Pkg\n",
    "Pkg.activate(\".\")\n",
    "Pkg.add([\"Plots\", \"Optimization\", \"OptimizationOptimJL\", \"ForwardDiff\"])\n",
    "using Plots\n",
    "using Optimization\n",
    "using OptimizationOptimJL\n",
    "using ForwardDiff"
   ]
  },
  {
   "cell_type": "code",
   "execution_count": 14,
   "id": "cc9bb5bf",
   "metadata": {},
   "outputs": [
    {
     "data": {
      "text/plain": [
       "fquad (generic function with 2 methods)"
      ]
     },
     "execution_count": 14,
     "metadata": {},
     "output_type": "execute_result"
    }
   ],
   "source": [
    "# Define the quadratic objective function\n",
    "# This function represents the objective we want to minimize. It takes two arguments:\n",
    "# 1. `x`: A vector representing the variables we are optimizing (in this case, a 2D vector)\n",
    "# 2. `p`: The parameters of the function (not used here, but required for OptimizationFunction)\n",
    "# The function calculates `x[1]^2 + 3 * x[2]^2`, which is a simple quadratic function\n",
    "\n",
    "function fquad(x, p)\n",
    "    return x[1]^2 + 3*x[2]^2\n",
    "end"
   ]
  },
  {
   "cell_type": "code",
   "execution_count": 15,
   "id": "1bdb1140",
   "metadata": {},
   "outputs": [
    {
     "data": {
      "text/plain": [
       "(::OptimizationFunction{true, AutoForwardDiff{nothing, Nothing}, typeof(fquad), Nothing, Nothing, Nothing, Nothing, Nothing, Nothing, Nothing, Nothing, Nothing, Nothing, Nothing, Nothing, Nothing, typeof(SciMLBase.DEFAULT_OBSERVED_NO_TIME), Nothing, Nothing, Nothing, Nothing, Nothing, Nothing, Nothing, Nothing, Nothing}) (generic function with 1 method)"
      ]
     },
     "execution_count": 15,
     "metadata": {},
     "output_type": "execute_result"
    }
   ],
   "source": [
    "# Wrap the function in an OptimizationFunction\n",
    "# This step wraps the objective function `fquad` in an `OptimizationFunction` object\n",
    "# We use `AutoForwardDiff()` as the differentiation method, which automatically computes\n",
    "# gradients using forward-mode automatic differentiation\n",
    "\n",
    "optf = OptimizationFunction(fquad, AutoForwardDiff())"
   ]
  },
  {
   "cell_type": "code",
   "execution_count": 16,
   "id": "bc248adb",
   "metadata": {},
   "outputs": [
    {
     "data": {
      "text/plain": [
       "2-element Vector{Float64}:\n",
       " 3.0\n",
       " 2.0"
      ]
     },
     "execution_count": 16,
     "metadata": {},
     "output_type": "execute_result"
    }
   ],
   "source": [
    "# Initial values for optimization\n",
    "# Here, we define the initial values (starting point) for the optimization process.\n",
    "# `x0` is the initial guess, with values 3.0 for `x[1]` and 2.0 for `x[2]`.\n",
    "\n",
    "x0 = [3.0, 2.0]"
   ]
  },
  {
   "cell_type": "code",
   "execution_count": 17,
   "id": "52e68787",
   "metadata": {},
   "outputs": [
    {
     "data": {
      "text/plain": [
       "\u001b[38;2;86;182;194mOptimizationProblem\u001b[0m. In-place: \u001b[38;2;86;182;194mtrue\u001b[0m\n",
       "u0: 2-element Vector{Float64}:\n",
       " 3.0\n",
       " 2.0"
      ]
     },
     "execution_count": 17,
     "metadata": {},
     "output_type": "execute_result"
    }
   ],
   "source": [
    "# Define the optimization problem\n",
    "# This step defines the optimization problem by specifying the objective function (`optf`)\n",
    "# and the initial guess (`x0`). The resulting `prob` object represents the problem that\n",
    "# we will pass to the solver.\n",
    "\n",
    "prob = OptimizationProblem(optf, x0)"
   ]
  },
  {
   "cell_type": "code",
   "execution_count": 18,
   "id": "3c5459ee",
   "metadata": {},
   "outputs": [
    {
     "data": {
      "text/plain": [
       "retcode: Success\n",
       "u: 2-element Vector{Float64}:\n",
       "  1.6114282515494203e-9\n",
       " -2.685713752582376e-10"
      ]
     },
     "execution_count": 18,
     "metadata": {},
     "output_type": "execute_result"
    }
   ],
   "source": [
    "# Use the GradientDescent optimizer\n",
    "# Here, we solve the optimization problem using the `GradientDescent` method.\n",
    "# Gradient Descent is an iterative optimization algorithm that moves in the direction of the negative gradient.\n",
    "# The `solve` function performs the optimization and returns the results.\n",
    "\n",
    "result = solve(prob, GradientDescent())"
   ]
  },
  {
   "cell_type": "code",
   "execution_count": 20,
   "id": "aae88f8d",
   "metadata": {},
   "outputs": [
    {
     "data": {
      "text/plain": [
       "2.813092760715925e-18"
      ]
     },
     "execution_count": 20,
     "metadata": {},
     "output_type": "execute_result"
    }
   ],
   "source": [
    "# Minimum value calculated\n",
    "# This is the value of the actual function at the minimum point\n",
    "\n",
    "result.minimum"
   ]
  },
  {
   "cell_type": "code",
   "execution_count": 21,
   "id": "86428d79",
   "metadata": {},
   "outputs": [
    {
     "data": {
      "text/plain": [
       "2-element Vector{Float64}:\n",
       "  1.6114282515494203e-9\n",
       " -2.685713752582376e-10"
      ]
     },
     "execution_count": 21,
     "metadata": {},
     "output_type": "execute_result"
    }
   ],
   "source": [
    "# Minimizing point\n",
    "# The set of values that gives the smallest possible value for a specific function\n",
    "\n",
    "result.minimizer"
   ]
  }
 ],
 "metadata": {
  "kernelspec": {
   "display_name": "Julia 1.10.5",
   "language": "julia",
   "name": "julia-1.10"
  },
  "language_info": {
   "file_extension": ".jl",
   "mimetype": "application/julia",
   "name": "julia",
   "version": "1.10.5"
  }
 },
 "nbformat": 4,
 "nbformat_minor": 5
}
