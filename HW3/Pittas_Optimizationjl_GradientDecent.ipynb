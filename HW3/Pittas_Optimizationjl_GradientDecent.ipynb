{
 "cells": [
  {
   "cell_type": "code",
   "execution_count": 3,
   "id": "1c4c7d3f-43fa-4123-a66e-57ba56608451",
   "metadata": {},
   "outputs": [
    {
     "name": "stderr",
     "output_type": "stream",
     "text": [
      "\u001b[32m\u001b[1m  Activating\u001b[22m\u001b[39m project at `C:\\Users\\gnpit`\n"
     ]
    }
   ],
   "source": [
    "import Pkg\n",
    "Pkg.activate(\".\")"
   ]
  },
  {
   "cell_type": "code",
   "execution_count": 5,
   "id": "e74e00e9-1cc4-4521-8dcc-ebbda325eac4",
   "metadata": {},
   "outputs": [
    {
     "name": "stderr",
     "output_type": "stream",
     "text": [
      "\u001b[32m\u001b[1m   Resolving\u001b[22m\u001b[39m package versions...\n",
      "\u001b[32m\u001b[1m  No Changes\u001b[22m\u001b[39m to `C:\\Users\\gnpit\\Project.toml`\n",
      "\u001b[32m\u001b[1m  No Changes\u001b[22m\u001b[39m to `C:\\Users\\gnpit\\Manifest.toml`\n"
     ]
    }
   ],
   "source": [
    "Pkg.add([\"Plots\", \"Optimization\", \"OptimizationOptimJL\", \"ForwardDiff\"])"
   ]
  },
  {
   "cell_type": "code",
   "execution_count": 7,
   "id": "b76d3fb8-0f2a-477d-8763-e2645e9beb2a",
   "metadata": {},
   "outputs": [],
   "source": [
    "using Plots, Optimization, OptimizationOptimJL, ForwardDiff"
   ]
  },
  {
   "cell_type": "code",
   "execution_count": 19,
   "id": "23675bdd-5ceb-4c98-8ab0-9315d24931e1",
   "metadata": {},
   "outputs": [
    {
     "data": {
      "text/plain": [
       "GradDec (generic function with 2 methods)"
      ]
     },
     "execution_count": 19,
     "metadata": {},
     "output_type": "execute_result"
    }
   ],
   "source": [
    "function GradDec(x,p)\n",
    "    return x[1]^2 + 3*x[2]^2\n",
    "end"
   ]
  },
  {
   "cell_type": "code",
   "execution_count": 21,
   "id": "b7125e75-d20b-4869-ac4f-e7c7c4e3439c",
   "metadata": {},
   "outputs": [
    {
     "data": {
      "text/plain": [
       "Any[]"
      ]
     },
     "execution_count": 21,
     "metadata": {},
     "output_type": "execute_result"
    }
   ],
   "source": [
    "iterations = []"
   ]
  },
  {
   "cell_type": "code",
   "execution_count": 23,
   "id": "cc9f058f-ed51-4880-ade5-df9a8cd2e7a8",
   "metadata": {},
   "outputs": [
    {
     "data": {
      "text/plain": [
       "f_callback (generic function with 1 method)"
      ]
     },
     "execution_count": 23,
     "metadata": {},
     "output_type": "execute_result"
    }
   ],
   "source": [
    "function f_callback(x)\n",
    "    push!(iterations, copy(x))  # Save the current point\n",
    "    return false  # Continue optimization\n",
    "end\n",
    "#will be called after each iteration to collect the path to the minimum (stored in interations array)"
   ]
  },
  {
   "cell_type": "code",
   "execution_count": 25,
   "id": "4723fc63-a0dd-4f85-9adf-eacd7d3f77b1",
   "metadata": {},
   "outputs": [
    {
     "data": {
      "text/plain": [
       "2-element Vector{Float64}:\n",
       " 3.0\n",
       " 2.0"
      ]
     },
     "execution_count": 25,
     "metadata": {},
     "output_type": "execute_result"
    }
   ],
   "source": [
    "x_0 = [3.0, 2.0]"
   ]
  },
  {
   "cell_type": "code",
   "execution_count": 27,
   "id": "71119e16-4667-4699-b97c-1bceae263463",
   "metadata": {},
   "outputs": [
    {
     "data": {
      "text/plain": [
       "(::OptimizationFunction{true, AutoForwardDiff{nothing, Nothing}, typeof(GradDec), Nothing, Nothing, Nothing, Nothing, Nothing, Nothing, Nothing, Nothing, Nothing, Nothing, Nothing, Nothing, Nothing, typeof(SciMLBase.DEFAULT_OBSERVED_NO_TIME), Nothing, Nothing, Nothing, Nothing, Nothing, Nothing, Nothing, Nothing, Nothing}) (generic function with 1 method)"
      ]
     },
     "execution_count": 27,
     "metadata": {},
     "output_type": "execute_result"
    }
   ],
   "source": [
    "wrap = OptimizationFunction(GradDec, AutoForwardDiff())"
   ]
  },
  {
   "cell_type": "code",
   "execution_count": 29,
   "id": "62dbc504-eebb-45b4-97b4-51e07c16934b",
   "metadata": {},
   "outputs": [
    {
     "data": {
      "text/plain": [
       "\u001b[38;2;86;182;194mOptimizationProblem\u001b[0m. In-place: \u001b[38;2;86;182;194mtrue\u001b[0m\n",
       "u0: 2-element Vector{Float64}:\n",
       " 3.0\n",
       " 2.0"
      ]
     },
     "execution_count": 29,
     "metadata": {},
     "output_type": "execute_result"
    }
   ],
   "source": [
    "problem = OptimizationProblem(wrap, x_0)"
   ]
  },
  {
   "cell_type": "code",
   "execution_count": 33,
   "id": "f1f30435-c779-42d0-8a52-e2dad54411fd",
   "metadata": {},
   "outputs": [
    {
     "data": {
      "text/plain": [
       "retcode: Success\n",
       "u: 2-element Vector{Float64}:\n",
       "  1.6114282515494192e-9\n",
       " -2.6857137525823675e-10"
      ]
     },
     "execution_count": 33,
     "metadata": {},
     "output_type": "execute_result"
    }
   ],
   "source": [
    "Gradient_Result = solve(problem, GradientDescent(), callback=f_callback(x))\n",
    "#Descent is calculated forward due to the settings that we have selected (AutoForwardDiff)\n",
    "#At every iteration, the descent is calculated via the chain rule, which is automatically determined within the Julia Pkg *Used Julia Documentation*\n",
    "#Note that the callback then can check each iteration and serves as a storage during calculations"
   ]
  },
  {
   "cell_type": "code",
   "execution_count": 35,
   "id": "6dc461e4-b290-4784-9df6-d2f29c94ec4d",
   "metadata": {},
   "outputs": [
    {
     "data": {
      "text/plain": [
       "2-element Vector{Float64}:\n",
       "  1.6114282515494192e-9\n",
       " -2.6857137525823675e-10"
      ]
     },
     "execution_count": 35,
     "metadata": {},
     "output_type": "execute_result"
    }
   ],
   "source": [
    "Gradient_Result.minimizer"
   ]
  },
  {
   "cell_type": "code",
   "execution_count": null,
   "id": "099991bd-0249-44be-9f4f-56360d4f0804",
   "metadata": {},
   "outputs": [],
   "source": []
  }
 ],
 "metadata": {
  "kernelspec": {
   "display_name": "Julia 1.10.4",
   "language": "julia",
   "name": "julia-1.10"
  },
  "language_info": {
   "file_extension": ".jl",
   "mimetype": "application/julia",
   "name": "julia",
   "version": "1.10.4"
  }
 },
 "nbformat": 4,
 "nbformat_minor": 5
}
