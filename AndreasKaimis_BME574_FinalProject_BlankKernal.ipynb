{
 "cells": [
  {
   "cell_type": "markdown",
   "id": "dd5cf72b",
   "metadata": {},
   "source": [
    "Using Unsupervised Clustering Techniques To Gate and Process Flow Cytometry Data\n",
    "---"
   ]
  },
  {
   "cell_type": "markdown",
   "id": "6926c2b5",
   "metadata": {},
   "source": [
    "### Loading in Data"
   ]
  },
  {
   "cell_type": "code",
   "execution_count": null,
   "id": "b7c2b95c",
   "metadata": {},
   "outputs": [],
   "source": [
    "import Pkg\n",
    "Pkg.activate(\".\")"
   ]
  },
  {
   "cell_type": "code",
   "execution_count": null,
   "id": "a496cb94",
   "metadata": {},
   "outputs": [],
   "source": [
    "Pkg.add([\"FileIO\",\"FCSFiles\",\"Plots\", \"DataFrames\", \"LinearAlgebra\",\"Distances\",\"Clustering\", \"Statistics\", \"StatsBase\", \"CSV\"])"
   ]
  },
  {
   "cell_type": "code",
   "execution_count": null,
   "id": "1f8fea1a",
   "metadata": {},
   "outputs": [],
   "source": [
    "using FileIO, FCSFiles, Plots, DataFrames, LinearAlgebra, Distances, Clustering, Statistics, StatsBase, CSV"
   ]
  },
  {
   "cell_type": "code",
   "execution_count": null,
   "id": "4742460a",
   "metadata": {},
   "outputs": [],
   "source": [
    "flowrun = FileIO.load(\"LD1_NS_NS_A01_exp.fcs\")\n"
   ]
  },
  {
   "cell_type": "code",
   "execution_count": null,
   "id": "06913506",
   "metadata": {},
   "outputs": [],
   "source": [
    "flowrun.data"
   ]
  },
  {
   "cell_type": "code",
   "execution_count": null,
   "id": "18e5b00f",
   "metadata": {},
   "outputs": [],
   "source": [
    "keys_l = collect(keys(flowrun.data))\n"
   ]
  },
  {
   "cell_type": "code",
   "execution_count": null,
   "id": "9adba576",
   "metadata": {},
   "outputs": [],
   "source": [
    "fsc = flowrun[\"FSC-A\"];\n",
    "ssc = flowrun[\"SSC-A\"];"
   ]
  },
  {
   "cell_type": "code",
   "execution_count": null,
   "id": "5f0771cb",
   "metadata": {},
   "outputs": [],
   "source": [
    "histogram2d(fsc, ssc, color=:viridis)"
   ]
  },
  {
   "cell_type": "code",
   "execution_count": null,
   "id": "ae7d941d",
   "metadata": {},
   "outputs": [],
   "source": [
    "scatter(fsc,ssc,markersize=1,color=:teal,alpha=0.05)"
   ]
  },
  {
   "cell_type": "code",
   "execution_count": null,
   "id": "a5ad8c67",
   "metadata": {},
   "outputs": [],
   "source": [
    "histogram(fsc)"
   ]
  },
  {
   "cell_type": "code",
   "execution_count": null,
   "id": "c3e81e79",
   "metadata": {},
   "outputs": [],
   "source": [
    "# function for plotting 1d and 2d flow data\n",
    "function flow_plot(flowrun,p1,p2=nothing)\n",
    "    if p2 == nothing\n",
    "        histogram(flowrun[p1],xlabel=\"$p1 Intensity\", ylabel=\"Cell Count\")\n",
    "    else\n",
    "        x_param = flowrun[p1]\n",
    "        y_param = flowrun[p2]\n",
    "        scatter( x_param, y_param,markersize=1,color=:teal,alpha=0.05,xlabel=\"$p1 Intensity\",ylabel=\"$p2 Intensity\")\n",
    "    end\n",
    "end\n"
   ]
  },
  {
   "cell_type": "code",
   "execution_count": null,
   "id": "b4c99a2a",
   "metadata": {},
   "outputs": [],
   "source": [
    "flow_plot(flowrun,\"FSC-A\",\"SSC-A\")"
   ]
  },
  {
   "cell_type": "markdown",
   "id": "4e569773",
   "metadata": {},
   "source": [
    "### Isolating Lymphocytes"
   ]
  },
  {
   "cell_type": "code",
   "execution_count": null,
   "id": "bbe7b5e4",
   "metadata": {},
   "outputs": [],
   "source": [
    "s_fsc = fsc[1:5000]\n",
    "s_ssc = ssc[1:5000]\n",
    "\n",
    "scatter( s_fsc, s_ssc,markersize=1,color=:teal,alpha=0.05)"
   ]
  },
  {
   "cell_type": "code",
   "execution_count": null,
   "id": "57547330",
   "metadata": {},
   "outputs": [],
   "source": [
    "# Identification of a parent cluster using dendrogram unsupervised clustering\n",
    "thresh = 0.85 # threshold for cluster identification\n",
    "\n",
    "# can use the pairwise function from distances package to generate distances between \n",
    "points = hcat(s_fsc,s_ssc)\n",
    "e_dists = pairwise(Euclidean(),points,dims=1)\n",
    "\n",
    "\n",
    "# the hclust function performs hierarchical clustering given an input of a distances matrix\n",
    "clusts = hclust(e_dists,linkage=:average)# decide how the location of the new cluster, 'linkage', is determined\n",
    "\n",
    "# translate the threshold to a distance for classification\n",
    "dist_thresh = thresh*maximum(clusts.heights)\n",
    "\n",
    "# plot the dendrogram\n",
    "using StatsPlots\n",
    "StatsPlots.plot(clusts, labels=1:size(points, 1), xlabel=\"Points\", ylabel=\"Height\")\n",
    "hline!([dist_thresh], color=:red, label=\"Threshold\")"
   ]
  },
  {
   "cell_type": "code",
   "execution_count": null,
   "id": "44cd8c19",
   "metadata": {},
   "outputs": [],
   "source": [
    "# Identify the clusters \n",
    "clusters = cutree(clusts, h=dist_thresh)\n",
    "\n",
    "# Find the Largest Cluster\n",
    "cluster_sizes = counts(clusters)  # Get the size of each cluster\n",
    "largest_cluster = argmax(cluster_sizes)  # Identify the largest cluster\n",
    "\n",
    "# Get indicies of points belonging to largest cluster\n",
    "largest_cluster_indices = findall(x -> x == largest_cluster, clusters)\n",
    "\n",
    "# Extract points in the largest cluster\n",
    "largest_cluster_points = points[largest_cluster_indices, :]  # Rows corresponding to the largest cluster\n",
    "\n",
    "# Calculate the center of the largest cluster\n",
    "center_of_largest_cluster = mean(largest_cluster_points, dims=1)  # Compute mean along rows\n",
    "\n",
    "println(\"Center of the largest cluster: \", center_of_largest_cluster)"
   ]
  },
  {
   "cell_type": "code",
   "execution_count": null,
   "id": "1402c80d",
   "metadata": {},
   "outputs": [],
   "source": [
    "scatter(s_fsc, s_ssc,markersize=1,color=:yellow,alpha=0.6)"
   ]
  },
  {
   "cell_type": "code",
   "execution_count": null,
   "id": "32c19564",
   "metadata": {},
   "outputs": [],
   "source": [
    "# show the identified cluster and it's center\n",
    "\n",
    "\n",
    "scatter!(largest_cluster_points[:, 1], largest_cluster_points[:, 2],markersize=1,color=:purple,alpha=0.2)\n",
    "scatter!([center_of_largest_cluster[1]],[center_of_largest_cluster[2]],markersize=5,c=:red,legend=false)"
   ]
  },
  {
   "cell_type": "code",
   "execution_count": null,
   "id": "4b5bb45a",
   "metadata": {
    "scrolled": true
   },
   "outputs": [],
   "source": [
    "# create an elliptical gate based on the largest cluster\n",
    "\n",
    "# Function to generate ellipse coordinates\n",
    "function ellipse_coords(center, cov_matrix, n_points=100)\n",
    "    eigenvalues, eigenvectors = eigen(cov_matrix)\n",
    "    theta = LinRange(0, 2π, n_points)  # Angle parameter\n",
    "    unit_circle = [cos.(theta) sin.(theta)]'  # Parametric unit circle\n",
    "    scaling = Diagonal(sqrt.(eigenvalues))  # Scale by eigenvalues\n",
    "    ellipse = eigenvectors * scaling * unit_circle .+ center  # Transform \n",
    "    return ellipse\n",
    "end\n",
    "\n",
    "# Compute covariance matrix and construct ellipse\n",
    "cov_matrix = cov(largest_cluster_points, dims=1)\n",
    "ellipse = ellipse_coords(vec(center_of_largest_cluster), cov_matrix)\n",
    "\n",
    "# Overlay the ellipse on the scatter plot\n",
    "plot!(ellipse[1, :], ellipse[2, :], color=:blue, lw=2, legend=false )"
   ]
  },
  {
   "cell_type": "code",
   "execution_count": null,
   "id": "1f9a6419",
   "metadata": {},
   "outputs": [],
   "source": [
    "# see ellipse applied to original full dataset\n",
    "\n",
    "flow_plot(flowrun,\"FSC-A\",\"SSC-A\")\n",
    "plot!(ellipse[1, :], ellipse[2, :], color=:blue, lw=2, legend=false )"
   ]
  },
  {
   "cell_type": "code",
   "execution_count": null,
   "id": "5a6dbaf2",
   "metadata": {},
   "outputs": [],
   "source": [
    "ellipse"
   ]
  },
  {
   "cell_type": "code",
   "execution_count": null,
   "id": "8bedf872",
   "metadata": {},
   "outputs": [],
   "source": [
    "function gate_in_ellipse(flowrun, x_param, y_param, center, cov_matrix)\n",
    "    # Extract the relevant parameters\n",
    "    x_data = flowrun[x_param]\n",
    "    y_data = flowrun[y_param]\n",
    "\n",
    "    # Combine into Nx2 points for filtering\n",
    "    points = hcat(x_data, y_data)\n",
    "\n",
    "    # Inverse of the covariance matrix\n",
    "    inv_cov = inv(cov_matrix)\n",
    "\n",
    "    # Function to check if a point is within the ellipse\n",
    "    function is_within_ellipse(point, center, inv_cov)\n",
    "        diff = point .- center\n",
    "        mahalanobis_distance = diff' * inv_cov * diff\n",
    "        return mahalanobis_distance <= 1.0  # Inside ellipse if distance ≤ 1\n",
    "    end\n",
    "\n",
    "    # Identify indices of points inside the ellipse\n",
    "    filtered_indices = [i for i in 1:size(points, 1) if is_within_ellipse(points[i, :], center, inv_cov)]\n",
    "\n",
    "    # Filter each parameter in the FlowRun\n",
    "    filtered_flowrun = Dict()\n",
    "    for (key, values) in flowrun\n",
    "        filtered_flowrun[key] = values[filtered_indices]\n",
    "    end\n",
    "\n",
    "    return filtered_flowrun\n",
    "end\n"
   ]
  },
  {
   "cell_type": "code",
   "execution_count": null,
   "id": "2d735c75",
   "metadata": {
    "scrolled": true
   },
   "outputs": [],
   "source": [
    "# gate to only be left with suspected lymphocytes\n",
    "lymphocytes = gate_in_ellipse(flowrun, \"FSC-A\", \"SSC-A\", vec(center_of_largest_cluster), cov_matrix)\n",
    "\n"
   ]
  },
  {
   "cell_type": "code",
   "execution_count": null,
   "id": "0ec107fc",
   "metadata": {},
   "outputs": [],
   "source": [
    "# view gated data, should be large reduction in n\n",
    "p1=\"FSC-A\"\n",
    "p2=\"SSC-A\"\n",
    "\n",
    "# Get the axis limits of the full dataset\n",
    "gx_limits = extrema(flowrun[p1])\n",
    "gy_limits = extrema(flowrun[p2])\n",
    "x_param = lymphocytes[p1]\n",
    "y_param = lymphocytes[p2]\n",
    "scatter( x_param, y_param,markersize=1,color=:teal,alpha=0.05,xlabel=\"$p1 Intensity\",ylabel=\"$p2 Intensity\",xlims=gx_limits,ylims=gy_limits)\n"
   ]
  },
  {
   "cell_type": "markdown",
   "id": "5ddf33a6",
   "metadata": {},
   "source": [
    "### Live vs. Dead Gating"
   ]
  },
  {
   "cell_type": "markdown",
   "id": "29f1dc61",
   "metadata": {},
   "source": [
    "*k-means strategy*\n",
    "\n",
    "$$argmin_{\\mu_j} \\Sigma_{j=1}^{k} \\Sigma_{x_n \\in D_j^'} || x_n - \\mu_j||^2$$"
   ]
  },
  {
   "cell_type": "code",
   "execution_count": null,
   "id": "dbc085e9",
   "metadata": {},
   "outputs": [],
   "source": [
    "# Convert to df for command over column titles\n",
    "df = DataFrame(lymphocytes)\n",
    "\n",
    "# Read the compensation matrix from a CSV file\n",
    "comp_matrix = CSV.read(\"comp_matrix.csv\", DataFrame)\n",
    "comp_matrix = DataFrame(comp_matrix)\n",
    "\n",
    "# Rename the columns by removing everything after the colon\n",
    "new_colnames = [replace(colname, r\" ::.*\" => \"\") for colname in names(comp_matrix)]\n",
    "rename!(comp_matrix, Pair.(names(comp_matrix), new_colnames))\n",
    "\n",
    "comp_order = names(comp_matrix)[2:end] # obtain order of channels in comp matrix to make data match order\n",
    "\n",
    "# compensate fluorescent channels in df\n",
    "fluoro = df[:,comp_order]\n",
    "\n",
    "# Convert the compe_matrix into a numerical matrix\n",
    "comp_matrix_num = Matrix(comp_matrix[:, 2:end])\n",
    "\n",
    "# Calculate the inverse of the compensation matrix\n",
    "comp_matrix_inverse = inv(comp_matrix_num)\n",
    "\n",
    "# Apply the compensation\n",
    "compensated_fluoro = Matrix(fluoro) * comp_matrix_inverse\n",
    "\n",
    "# Extract non-fluorescence columns (columns not in comp_order)\n",
    "non_fluoro_columns = setdiff(names(df), comp_order)\n",
    "non_fluoro_data = df[:, non_fluoro_columns]\n",
    "\n",
    "# Create a DataFrame for the compensated fluorescence data\n",
    "compensated_fluoro_df = DataFrame(compensated_fluoro, comp_order)\n",
    "\n",
    "# Combine compensated fluorescence data with non-fluorescence columns\n",
    "comp_lymph_df = hcat(non_fluoro_data, compensated_fluoro_df)\n",
    "\n",
    "# Convert the final DataFrame to a Dictionary\n",
    "comp_lymph = Dict(name => comp_lymph_df[!, name] for name in names(comp_lymph_df))"
   ]
  },
  {
   "cell_type": "code",
   "execution_count": null,
   "id": "3b0dbae9",
   "metadata": {},
   "outputs": [],
   "source": [
    "p1=\"FSC-A\"\n",
    "p2=\"AARD-A\"\n",
    "\n",
    "# Get the axis limits of the full dataset\n",
    "#gx_limits = extrema(flowrun[p1])\n",
    "#gy_limits = extrema(flowrun[p2])\n",
    "x_param = comp_lymph[p1]\n",
    "y_param = comp_lymph[p2]\n",
    "scatter( x_param, y_param,markersize=1,color=:blue,xlabel=\"$p1 Intensity\",ylabel=\"$p2 Intensity\",yscale=:identity)\n"
   ]
  },
  {
   "cell_type": "code",
   "execution_count": null,
   "id": "d9fb26a0",
   "metadata": {},
   "outputs": [],
   "source": [
    "minimum(y_param)"
   ]
  },
  {
   "cell_type": "code",
   "execution_count": null,
   "id": "a77d5efa",
   "metadata": {},
   "outputs": [],
   "source": [
    "#=\n",
    "# doesn;t cluster up and down, can't get init to call correctly\n",
    "\n",
    "# Define the channel data of interest for identifying the vitality of cells\n",
    "L = hcat(comp_lymph[\"FSC-A\"], comp_lymph[\"AARD-A\"])\n",
    "\n",
    "# Cluster the lymphocytes into 2 groups: live and dead\n",
    "g = kmeans(L', 2; maxiter=20, display=:iter,init=:kmcen)\n",
    "\n",
    "@assert nclusters(g) == 2  # Verify the number of clusters\n",
    "\n",
    "a = assignments(g)  # Get the assignments for each data point (this will have the same length as L)\n",
    "sz = counts(g)  # Get the cluster sizes\n",
    "c = g.centers  # Get the cluster centers\n",
    "\n",
    "# Scatter plot with points colored according to cluster assignments\n",
    "scatter(\n",
    "    comp_lymph[\"FSC-A\"],  \n",
    "    comp_lymph[\"AARD-A\"],\n",
    "    marker_z=a,  # Color points according to cluster assignments\n",
    "    color=:lightrainbow,  # Color palette\n",
    "    legend=false,  # Hide legend\n",
    "    markersize=1  # Adjust markersize\n",
    ")\n",
    "=#\n"
   ]
  },
  {
   "cell_type": "code",
   "execution_count": null,
   "id": "3896830b",
   "metadata": {},
   "outputs": [],
   "source": [
    "#Lloyd algorithm for k-means\n",
    "\n",
    "using Plots\n",
    "\n",
    "# Calculate the mean of FSC-A (x-direction) and the min/max of AARD-A (y-direction)\n",
    "x_center = mean(comp_lymph[\"FSC-A\"])  # Centered in the x-direction (FSC-A)\n",
    "y_min = minimum(comp_lymph[\"AARD-A\"])  # Minimum of the y-values (AARD-A)\n",
    "y_max = maximum(comp_lymph[\"AARD-A\"])  # Maximum of the y-values (AARD-A)\n",
    "\n",
    "# Set the initial guesses\n",
    "g1 = [x_center, y_min]  # Initial guess for class 1 (min y-direction)\n",
    "g2 = [x_center, y_max]  # Initial guess for class 2 (max y-direction)\n",
    "\n",
    "# Empty arrays to hold the points for each class\n",
    "class1 = []  # Initialize as an empty array to hold points for class1\n",
    "class2 = []  # Initialize as an empty array to hold points for class2\n",
    "\n",
    "# Loop over each data point and classify based on proximity to centroids\n",
    "for jj in 1:length(comp_lymph[\"FSC-A\"])\n",
    "    # Calculate distances to the centroids\n",
    "    d1 = norm(g1 - [comp_lymph[\"FSC-A\"][jj], comp_lymph[\"AARD-A\"][jj]])\n",
    "    d2 = norm(g2 - [comp_lymph[\"FSC-A\"][jj], comp_lymph[\"AARD-A\"][jj]])\n",
    "\n",
    "    # Assign to the closest class\n",
    "    if d1 < d2\n",
    "        push!(class1, [comp_lymph[\"FSC-A\"][jj], comp_lymph[\"AARD-A\"][jj]])  # Add point to class1\n",
    "    else\n",
    "        push!(class2, [comp_lymph[\"FSC-A\"][jj], comp_lymph[\"AARD-A\"][jj]])  # Add point to class2\n",
    "    end\n",
    "end\n",
    "\n",
    "# Convert the class lists into arrays (each row is a data point)\n",
    "class1_matrix = hcat(class1...)  # Combine the list of points into a matrix (columns as individual points)\n",
    "class2_matrix = hcat(class2...)  # same for class2\n",
    "\n",
    "# Recalculate centroids based on the means of the points in each class\n",
    "g1_new = mean(class1_matrix, dims=2)  # Mean of class1 (in columns)\n",
    "g2_new = mean(class2_matrix, dims=2)  # Mean of class2 (in columns)\n",
    "\n",
    "# Plot the results\n",
    "scatter(\n",
    "    class1_matrix[1, :], class1_matrix[2, :],  # Plot class1 points\n",
    "    label=\"Class 1\", color=:blue, markersize=3\n",
    ")\n",
    "scatter!(\n",
    "    class2_matrix[1, :], class2_matrix[2, :],  # Plot class2 points\n",
    "    label=\"Class 2\", color=:red, markersize=3\n",
    ")\n",
    "\n",
    "# Plot the centroids as single points\n",
    "scatter!(\n",
    "    [g1_new[1]], [g1_new[2]], label=\"Centroid 1\", color=:green, marker=:star, markersize=6\n",
    ")\n",
    "scatter!(\n",
    "    [g2_new[1]], [g2_new[2]], label=\"Centroid 2\", color=:orange, marker=:star, markersize=6\n",
    ")\n",
    "\n",
    "# Set labels and title\n",
    "xlabel!(\"FSC-A\")\n",
    "ylabel!(\"AARD-A\")\n",
    "title!(\"Clustering of Lymphocytes: Live vs Dead\")\n",
    "\n"
   ]
  },
  {
   "cell_type": "code",
   "execution_count": null,
   "id": "6cbbdf56",
   "metadata": {},
   "outputs": [],
   "source": [
    "# isolate live cells\n",
    "# Create a new dictionary to store live cell data\n",
    "live = Dict()\n",
    "\n",
    "# Loop through each key in the original comp_lymph dictionary\n",
    "for key in keys(comp_lymph)\n",
    "    # Create an empty vector to store filtered data\n",
    "    live[key] = []\n",
    "    \n",
    "    # Loop through each cell and check if it's in class1 (live cells)\n",
    "    for jj in 1:length(comp_lymph[key])\n",
    "        if norm(g1 - [comp_lymph[\"FSC-A\"][jj], comp_lymph[\"AARD-A\"][jj]]) < \n",
    "           norm(g2 - [comp_lymph[\"FSC-A\"][jj], comp_lymph[\"AARD-A\"][jj]])  # Classify as live\n",
    "            push!(live[key], comp_lymph[key][jj])  # Add the corresponding data to the 'live' dictionary\n",
    "        end\n",
    "    end\n",
    "end"
   ]
  },
  {
   "cell_type": "code",
   "execution_count": null,
   "id": "1528b8bb",
   "metadata": {},
   "outputs": [],
   "source": [
    "p1=\"Ax700-A\" \n",
    "histogram(live[p1],xlabel=\"$p1 Intensity\", ylabel=\"Cell Count\",xlims=(-100,3000))"
   ]
  },
  {
   "cell_type": "code",
   "execution_count": null,
   "id": "56a6ed11",
   "metadata": {},
   "outputs": [],
   "source": [
    "# Create a new dictionary called CD_plus to store filtered data\n",
    "CD_plus = Dict()\n",
    "\n",
    "# Filter the rows where \"Ax700\" values are greater than 100 and store them in CD_plus\n",
    "CD_plus[\"Ax700-A\"] = live[\"Ax700-A\"][live[\"Ax700-A\"] .> 100]\n",
    "\n",
    "for key in keys(live)\n",
    "    CD_plus[key] = live[key][live[\"Ax700-A\"] .> 100]\n",
    "end\n"
   ]
  },
  {
   "cell_type": "code",
   "execution_count": null,
   "id": "98313d37",
   "metadata": {},
   "outputs": [],
   "source": []
  }
 ],
 "metadata": {
  "kernelspec": {
   "display_name": "Julia 1.10.4",
   "language": "julia",
   "name": "julia-1.10"
  },
  "language_info": {
   "file_extension": ".jl",
   "mimetype": "application/julia",
   "name": "julia",
   "version": "1.10.4"
  }
 },
 "nbformat": 4,
 "nbformat_minor": 5
}
