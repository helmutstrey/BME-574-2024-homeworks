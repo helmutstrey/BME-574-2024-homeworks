{
 "cells": [
  {
   "cell_type": "code",
   "execution_count": null,
   "id": "48aa86c8-6520-4abf-98bd-81aab5e6dc58",
   "metadata": {},
   "outputs": [],
   "source": [
    "import Pkg\n",
    "Pkg.activate(\".\")"
   ]
  },
  {
   "cell_type": "code",
   "execution_count": null,
   "id": "9a191b6d-a4a5-4dc1-be82-86d00a60d8fc",
   "metadata": {},
   "outputs": [],
   "source": [
    "Pkg.add([\"Plots\",\"Optimization\",\"ForwardDiff\"])"
   ]
  },
  {
   "cell_type": "code",
   "execution_count": null,
   "id": "6646ecc9-1c42-45ef-9448-8ed9192ac8b1",
   "metadata": {},
   "outputs": [],
   "source": [
    "using Plots, Optimization, ForwardDiff"
   ]
  },
  {
   "cell_type": "code",
   "execution_count": null,
   "id": "78353bc1-4888-4ae1-a7ae-926460d39a61",
   "metadata": {},
   "outputs": [],
   "source": [
    "h = 0.5\n",
    "xs = collect(-6:h:6)\n",
    "ys = collect(-6:h:6)\n",
    "X = [x for x = xs for _ = ys]\n",
    "Y = [y for _ = xs for y = ys]"
   ]
  },
  {
   "cell_type": "code",
   "execution_count": null,
   "id": "9100ef00-ce8c-4c5b-b7d4-3c0b6d496f94",
   "metadata": {},
   "outputs": [],
   "source": [
    "f0(x,y) = 1.5 - 1.0*exp(-0.03*(3*x^2+y^2))\n",
    "f(x,y) = 1.5-1.6*exp(-0.05*(3*(x+3).^2+(y+3).^2))\n",
    "fs(x,y) = f(x,y) + (0.5-exp(-0.1*(3*(x-3).^2+(y-3).^2)))"
   ]
  },
  {
   "cell_type": "code",
   "execution_count": null,
   "id": "8a191211-0000-420d-aaa2-3962f2f0b07d",
   "metadata": {},
   "outputs": [],
   "source": [
    "Z = ((x,y) -> begin\n",
    "        f0(x,y)\n",
    "    end)"
   ]
  },
  {
   "cell_type": "code",
   "execution_count": null,
   "id": "eb457f5f-fff7-4256-878a-5d5772bd191a",
   "metadata": {},
   "outputs": [],
   "source": [
    "surface(X, Y, Z.(X,Y), xlabel = \"x\", ylabel = \"y\", zlabel = \"f0\")"
   ]
  },
  {
   "cell_type": "code",
   "execution_count": null,
   "id": "51c67260-6d09-4162-977c-f21ed38456b9",
   "metadata": {},
   "outputs": [],
   "source": [
    "contourf(x, y, f0, xlabel = \"x\", ylabel = \"y\", zlabel = \"f0\")"
   ]
  },
  {
   "cell_type": "code",
   "execution_count": null,
   "id": "74873b13-9729-40cf-8047-8157e460d130",
   "metadata": {},
   "outputs": [],
   "source": [
    "contourf(x, y, fs, xlabel = \"x\", ylabel = \"y\", zlabel = \"f0\",aspect=:equal)"
   ]
  },
  {
   "cell_type": "code",
   "execution_count": null,
   "id": "961a33e8-5434-46f4-9177-383d4e07636d",
   "metadata": {},
   "outputs": [],
   "source": [
    "# Define quadratic function for gradient descent\n",
    "fquad(xy) = xy[1]^2 + 3 * xy[2]^2  # fquad(x, y) = x^2 + 3*y^2\n",
    "\n",
    "# Define the objective function for optimization\n",
    "function obj_fun(x)\n",
    "    return fquad(x)\n",
    "end"
   ]
  },
  {
   "cell_type": "code",
   "execution_count": null,
   "id": "506af06e-1c30-4dfe-b0c2-708e7ab65452",
   "metadata": {},
   "outputs": [],
   "source": [
    "# Initial point for optimization\n",
    "x0 = [3.0, 2.0]\n",
    "\n",
    "# Callback function to store the path\n",
    "path_x = []\n",
    "path_y = []\n",
    "function callback(state)\n",
    "    push!(path_x, state.u[1])\n",
    "    push!(path_y, state.u[2])\n",
    "    return false  # Continue optimization\n",
    "end"
   ]
  },
  {
   "cell_type": "code",
   "execution_count": null,
   "id": "7a5bb66b-6d3d-457a-9df5-7001dc2b7c3f",
   "metadata": {},
   "outputs": [],
   "source": [
    "# Set up the optimization problem\n",
    "prob = Optimization.OptimizationProblem(obj_fun, x0)\n",
    "\n",
    "# Use Descent() algorithm and AutoForwardDiff() for automatic gradient calculation\n",
    "result = Optimization.solve(prob, Optimization.OptimizationFunction(obj_fun, AutoForwardDiff()), \n",
    "                            Optimization.Descent(), callback=callback)"
   ]
  },
  {
   "cell_type": "code",
   "execution_count": null,
   "id": "2acf95b2-0651-46d8-ad7e-664e2ea7d0e1",
   "metadata": {},
   "outputs": [],
   "source": [
    "# Plot the path taken by the gradient descent\n",
    "contourf(xs, ys, f0, xlabel = \"x\", ylabel = \"y\", zlabel = \"f0\")\n",
    "plot!(path_x, path_y, markershape = :circle, aspect = :equal)"
   ]
  },
  {
   "cell_type": "code",
   "execution_count": null,
   "id": "f34e77c2-ca2f-49a7-af14-04268f2b0bab",
   "metadata": {},
   "outputs": [],
   "source": []
  }
 ],
 "metadata": {
  "kernelspec": {
   "display_name": "Julia 1.10.5",
   "language": "julia",
   "name": "julia-1.10"
  },
  "language_info": {
   "file_extension": ".jl",
   "mimetype": "application/julia",
   "name": "julia",
   "version": "1.10.5"
  }
 },
 "nbformat": 4,
 "nbformat_minor": 5
}
